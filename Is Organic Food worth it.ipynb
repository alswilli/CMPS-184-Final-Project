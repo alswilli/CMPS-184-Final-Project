{
 "cells": [
  {
   "cell_type": "markdown",
   "metadata": {},
   "source": [
    "# DATA LINKS"
   ]
  },
  {
   "cell_type": "markdown",
   "metadata": {},
   "source": [
    "Questions to answer and their corresponding data sets:\n",
    "\n",
    "**1. Does eating organic food have any health benefits over non-organic food? More nutritious/antioxidants? Prevent disease? Less exposure to anti-biotic resistent bacteria?**\n",
    "\n",
    "* Milk fatty acid ratios: [https://onlinelibrary.wiley.com/doi/full/10.1002/fsn3.610](https://onlinelibrary.wiley.com/doi/full/10.1002/fsn3.610)\n",
    "\n",
    "* (Limited) Flavonoids and antioxidant counts: [https://www.cambridge.org/core/journals/british-journal-of-nutrition/article/higher-antioxidant-and-lower-cadmium-concentrations-and-lower-incidence-of-pesticide-residues-in-organically-grown-crops-a-systematic-literature-review-and-metaanalyses/33F09637EAE6C4ED119E0C4BFFE2D5B1/core-reader](https://www.cambridge.org/core/journals/british-journal-of-nutrition/article/higher-antioxidant-and-lower-cadmium-concentrations-and-lower-incidence-of-pesticide-residues-in-organically-grown-crops-a-systematic-literature-review-and-metaanalyses/33F09637EAE6C4ED119E0C4BFFE2D5B1/core-reader)\n",
    "\n",
    "* Deaths from strengthened bacteria: [https://www.cdc.gov/drugresistance/threat-report-2013/pdf/ar-threats-2013-508.pdf](https://www.cdc.gov/drugresistance/threat-report-2013/pdf/ar-threats-2013-508.pdf)\n",
    "\n",
    "* https://www.organicfacts.net/organic-products/organic-food/health-benefits-of-organic-food.html -> covers tomatoes, milk, etc\n",
    "* http://www.orac-info-portal.de/download/ORAC_R2.pdf -> antioxdant relted stuff (pdf)\n",
    "* https://www.ncbi.nlm.nih.gov/pmc/articles/PMC2841576/ -> large pdf at bottom for antoxidant stuff\n",
    "\n",
    "\n",
    "**2. Is the amount of pesticides/fertilizer/antibiotics used on non-organic food harmful to us?** \n",
    "\n",
    "* Pesticide poisonings non-occupational - [https://depts.washington.edu/ceeh/downloads/FF_Pesticides.pdf](https://depts.washington.edu/ceeh/downloads/FF_Pesticides.pdf)\n",
    "\n",
    "**3. Which types of food products (fruits, vegetables, pultry, dairy, etc) have the most pesticides/fertilizer/antibiotic-resistent bacteria?** \n",
    "\n",
    "* Pesticide concentration in various produce: [https://apps.ams.usda.gov/pdp](https://apps.ams.usda.gov/pdp).\n",
    "    - Chose all commodities, all pesticides, and 2016 when generating the csv file.\n",
    "\n",
    "\n",
    "\n",
    "**4. Where are pesticide/fertilizer/antibiotic-resistent bacteria related poisonings/cases most common in the US?** \n",
    "\n",
    "* Antibiotic resistance by state per year: [https://wwwn.cdc.gov/narmsnow/](https://wwwn.cdc.gov/narmsnow/)\n",
    "\n",
    "* Occupational pesticide poisonings be state by year: [https://www.cdc.gov/niosh/topics/pesticides/animatedmap.html](https://www.cdc.gov/niosh/topics/pesticides/animatedmap.html)\n",
    "\n",
    "**5. Is it possible for everyone in the US to eat organic (i.e. produce enough organic foods)?**\n",
    "\n",
    "* Organic Sustainability long term: [https://www.theguardian.com/sustainable-business/2016/aug/14/organic-farming-agriculture-world-hunger](https://www.theguardian.com/sustainable-business/2016/aug/14/organic-farming-agriculture-world-hunger)\n",
    "\n",
    "* Predicted U.S. population growth by year: [https://www.census.gov/data/tables/2017/demo/popproj/2017-summary-tables.html](https://www.census.gov/data/tables/2017/demo/popproj/2017-summary-tables.html)\n",
    "\n",
    "**6. How do the prices of organic food compare to prices of non-organic food (latest data)?**\n",
    "\n",
    "* Price of organic versus non-organic produce: [https://www.consumerreports.org/cro/news/2015/03/cost-of-organic-food/index.htm#table1](https://www.consumerreports.org/cro/news/2015/03/cost-of-organic-food/index.htm#table1).\n",
    "    - Per serving size (pound, pint, oz, etc) \n",
    "    - Prices averaged from 8 select U.S. grocers\n",
    "\n",
    "* 2013 prices for non-organic (more data exists for dairy and such): [https://www.ers.usda.gov/data-products/fruit-and-vegetable-prices/](https://www.ers.usda.gov/data-products/fruit-and-vegetable-prices/)\n",
    "\n",
    "* Some organic prices over time (nothing very recent): [https://www.ers.usda.gov/data-products/organic-prices/](https://www.ers.usda.gov/data-products/organic-prices/)\n",
    "\n",
    "* Probably incldues organic food: https://www.bls.gov/opub/btn/volume-2/average-food-prices-a-snapshot-of-how-much-has-changed-over-a-century.htm\n",
    "\n",
    "\n",
    "\n",
    "**7. Is organic farming better for the environment versus non-organic? (think water supply, global warming (gases), soil, etc)**\n",
    "\n",
    "\n",
    "* Organic Farming Environmental Impact - [https://www.sciencedirect.com/science/article/pii/S0301479712004264](https://www.sciencedirect.com/science/article/pii/S0301479712004264)\n",
    "\n",
    "* Organic food less yield -> worse for environment - [https://geneticliteracyproject.org/2018/02/16/usda-data-confirm-organic-yields-dramatically-lower-conventional-farming/](https://geneticliteracyproject.org/2018/02/16/usda-data-confirm-organic-yields-dramatically-lower-conventional-farming/)\n",
    "\n",
    "* More analysis of crop yields - [https://journals.plos.org/plosone/article?id=10.1371/journal.pone.0161673](https://journals.plos.org/plosone/article?id=10.1371/journal.pone.0161673)\n",
    "\n",
    "* Report on environmental impact of organic foods - [https://rodaleinstitute.org/wp-content/uploads/fst-30-year-report.pdf](https://rodaleinstitute.org/wp-content/uploads/fst-30-year-report.pdf)\n",
    "\n",
    "* Report citing pesticides and fertilizers as major player in pollinator decline [https://www.sciencedirect.com/science/article/pii/S0006320718313636#t0005](https://www.sciencedirect.com/science/article/pii/S0006320718313636#t0005)\n",
    "\n",
    "**8. Does organic food actually taste better? Qualitative data**\n",
    "\n",
    "* Various qualitative plots about organic food consumption [https://www.pewresearch.org/science/2016/12/01/americans-views-about-and-consumption-of-organic-foods/](https://www.pewresearch.org/science/2016/12/01/americans-views-about-and-consumption-of-organic-foods/)\n",
    "\n",
    "* Organic label tasting bias [https://www.theatlantic.com/health/archive/2013/04/study-organic-labels-make-food-taste-healthier/274683/](https://www.theatlantic.com/health/archive/2013/04/study-organic-labels-make-food-taste-healthier/274683/)\n",
    "\n",
    "* Summarizing tasting surveys [https://medium.com/the-nature-of-food/does-organic-food-taste-better-dd5e2b2e166d](https://medium.com/the-nature-of-food/does-organic-food-taste-better-dd5e2b2e166d)\n",
    "\n",
    "\n",
    "**9. What does being “organic” mean across different types of food products?**\n",
    "\n",
    "* USDA defined rules for \"organic\" [https://www.ams.usda.gov/rules-regulations/organic](https://www.ams.usda.gov/rules-regulations/organic)\n",
    "\n",
    "**Additional Links**\n",
    "\n",
    "* Our World In Data links\n",
    "    [https://ourworldindata.org/is-organic-agriculture-better-for-the-environment](https://ourworldindata.org/is-organic-agriculture-better-for-the-environment) ;\n",
    "    [https://ourworldindata.org/yields-and-land-use-in-agriculture](https://ourworldindata.org/yields-and-land-use-in-agriculture) ;\n",
    "    [https://ourworldindata.org/fertilizer-and-pesticides](https://ourworldindata.org/fertilizer-and-pesticides)\n",
    "\n",
    "* Biodiversity database [http://livingplanetindex.org/home/index](http://livingplanetindex.org/home/index)\n",
    "\n",
    "* Another good website about food prices (but can’t access data) [https://www.ers.usda.gov/amber-waves/2016/may/investigating-retail-price-premiums-for-organic-foods/](https://www.ers.usda.gov/amber-waves/2016/may/investigating-retail-price-premiums-for-organic-foods/)\n",
    "\n",
    "* Even more graphs [https://www.ers.usda.gov/data-products/charts-of-note/charts-of-note/?topicId=14904](https://www.ers.usda.gov/data-products/charts-of-note/charts-of-note/?topicId=14904)\n"
   ]
  },
  {
   "cell_type": "markdown",
   "metadata": {},
   "source": [
    "# CODE"
   ]
  },
  {
   "cell_type": "markdown",
   "metadata": {},
   "source": [
    "## 1. Does eating organic food have any health benefits over non-organic food? (Prevent disease, more nutritious, less exposure to antibiotic resistant bacteria, etc)"
   ]
  },
  {
   "cell_type": "markdown",
   "metadata": {},
   "source": [
    "### - Milk Fatty Acids Ratios\n",
    "\n",
    "**NOTE: I used Adobe Acrobat's \"PDF to Excel\" converter to transform the pdf data to Excel that I could then access.** "
   ]
  },
  {
   "cell_type": "code",
   "execution_count": 158,
   "metadata": {},
   "outputs": [],
   "source": [
    "# # Import necessary libraries\n",
    "# from bs4 import BeautifulSoup\n",
    "# from requests import get"
   ]
  },
  {
   "cell_type": "code",
   "execution_count": 159,
   "metadata": {},
   "outputs": [],
   "source": [
    "# # Make a get request to page \n",
    "# response = get('https://onlinelibrary.wiley.com/doi/epdf/10.1002/fsn3.610')\n",
    "\n",
    "# # Throw a warning for non-200 status codes\n",
    "# if response.status_code != 200:\n",
    "#     warn('Request: {}; Status code: {}'.format(requests, response.status_code))\n",
    "    \n",
    "# # Parse the content of the request with BeautifulSoup\n",
    "# page_html = BeautifulSoup(response.text, 'html.parser')"
   ]
  },
  {
   "cell_type": "code",
   "execution_count": 160,
   "metadata": {},
   "outputs": [],
   "source": [
    "# # test = page_html.find('div', attrs={'style':'left: 244.098px; top: 2742.79px; font-size: 32px; font-family: sans-serif; transform: rotate(-90deg) scaleX(1.00458);'})\n",
    "# test = page_html.find_all('div', class_ = \"textLayer\")\n",
    "# test "
   ]
  },
  {
   "cell_type": "code",
   "execution_count": 97,
   "metadata": {},
   "outputs": [],
   "source": [
    "# Import necessary libraries \n",
    "import xlrd\n",
    "import agate\n",
    "import os\n",
    "import numpy as np\n",
    "import pandas as pd\n",
    "import matplotlib.pyplot as plt\n",
    "%matplotlib inline"
   ]
  },
  {
   "cell_type": "code",
   "execution_count": 20,
   "metadata": {},
   "outputs": [
    {
     "name": "stderr",
     "output_type": "stream",
     "text": [
      "C:\\ANACONDA\\lib\\site-packages\\xlrd\\xlsx.py:266: PendingDeprecationWarning: This method will be removed in future versions.  Use 'tree.iter()' or 'list(tree.iter())' instead.\n",
      "C:\\ANACONDA\\lib\\site-packages\\xlrd\\xlsx.py:312: PendingDeprecationWarning: This method will be removed in future versions.  Use 'tree.iter()' or 'list(tree.iter())' instead.\n",
      "C:\\ANACONDA\\lib\\site-packages\\xlrd\\xlsx.py:266: PendingDeprecationWarning: This method will be removed in future versions.  Use 'tree.iter()' or 'list(tree.iter())' instead.\n"
     ]
    },
    {
     "data": {
      "text/plain": [
       "254"
      ]
     },
     "execution_count": 20,
     "metadata": {},
     "output_type": "execute_result"
    }
   ],
   "source": [
    "# Imports the xls file and verifies it is the correct data with title and number of sheets\n",
    "path_to_milk_data = os.path.join('Data', 'Benbrook_et_al-2018-Food_Science_&_Nutrition.xlsx')\n",
    "\n",
    "workbook = xlrd.open_workbook(path_to_milk_data)\n",
    "sheet = workbook.sheets()[0]"
   ]
  },
  {
   "cell_type": "code",
   "execution_count": 152,
   "metadata": {},
   "outputs": [
    {
     "name": "stdout",
     "output_type": "stream",
     "text": [
      "[['Total fatty acids', 3.098, 3.108], ['Saturated fatty acids', 2.043, 2.116], ['14:0 myristic', 0.3274, 0.349], ['16:0 palmitic', 0.8995, 0.9344], ['18:0 stearic', 0.3559, 0.3434], ['Monounsaturated fatty acids', 0.7944, 0.741], ['18:1 incl. oleic', 0.7074, 0.6505], ['Total ω-3 Fatty Acids', 0.0198, 0.0321], ['α-linolenic acid, ALA', 0.0159, 0.0255], ['20:5 eicosapentae-        0.0025 noic, EPA', 0.0033, 0.00413], ['22:5 docosapentae-       0.0037', 0.0044, 0.00543], ['noic, DPA'], ['22:6 docosahexae-       e                                e                         0.00106f               0.00092f noic, DHA'], ['Total ω-6 fatty acids', 0.0948, 0.0711], ['18:2 linoleic, LA', 0.0856, 0.0639], ['Total polyunsaturated fatty acids', 0.1147, 0.1037], ['Total trans fatty acids', 0.1281, 0.1254], ['Total CLA', 0.0192, 0.0227], ['LA/ALA', 6.272, 2.568], ['ω-6/ω-3', 5.774, 2.276], ['ω-3/ω-6', 0.219, 0.456]]\n"
     ]
    },
    {
     "data": {
      "text/html": [
       "<div>\n",
       "<style scoped>\n",
       "    .dataframe tbody tr th:only-of-type {\n",
       "        vertical-align: middle;\n",
       "    }\n",
       "\n",
       "    .dataframe tbody tr th {\n",
       "        vertical-align: top;\n",
       "    }\n",
       "\n",
       "    .dataframe thead th {\n",
       "        text-align: right;\n",
       "    }\n",
       "</style>\n",
       "<table border=\"1\" class=\"dataframe\">\n",
       "  <thead>\n",
       "    <tr style=\"text-align: right;\">\n",
       "      <th></th>\n",
       "      <th>Conventional</th>\n",
       "      <th>Organic</th>\n",
       "    </tr>\n",
       "  </thead>\n",
       "  <tbody>\n",
       "    <tr>\n",
       "      <th>Total fatty acids</th>\n",
       "      <td>3.0980</td>\n",
       "      <td>3.1080</td>\n",
       "    </tr>\n",
       "    <tr>\n",
       "      <th>Saturated fatty acids</th>\n",
       "      <td>2.0430</td>\n",
       "      <td>2.1160</td>\n",
       "    </tr>\n",
       "    <tr>\n",
       "      <th>14:0 myristic</th>\n",
       "      <td>0.3274</td>\n",
       "      <td>0.3490</td>\n",
       "    </tr>\n",
       "    <tr>\n",
       "      <th>16:0 palmitic</th>\n",
       "      <td>0.8995</td>\n",
       "      <td>0.9344</td>\n",
       "    </tr>\n",
       "    <tr>\n",
       "      <th>18:0 stearic</th>\n",
       "      <td>0.3559</td>\n",
       "      <td>0.3434</td>\n",
       "    </tr>\n",
       "    <tr>\n",
       "      <th>Monounsaturated fatty acids</th>\n",
       "      <td>0.7944</td>\n",
       "      <td>0.7410</td>\n",
       "    </tr>\n",
       "    <tr>\n",
       "      <th>18:1 incl. oleic</th>\n",
       "      <td>0.7074</td>\n",
       "      <td>0.6505</td>\n",
       "    </tr>\n",
       "    <tr>\n",
       "      <th>Total ω-3 Fatty Acids</th>\n",
       "      <td>0.0198</td>\n",
       "      <td>0.0321</td>\n",
       "    </tr>\n",
       "    <tr>\n",
       "      <th>α-linolenic acid, ALA</th>\n",
       "      <td>0.0159</td>\n",
       "      <td>0.0255</td>\n",
       "    </tr>\n",
       "    <tr>\n",
       "      <th>Total ω-6 fatty acids</th>\n",
       "      <td>0.0948</td>\n",
       "      <td>0.0711</td>\n",
       "    </tr>\n",
       "    <tr>\n",
       "      <th>18:2 linoleic, LA</th>\n",
       "      <td>0.0856</td>\n",
       "      <td>0.0639</td>\n",
       "    </tr>\n",
       "    <tr>\n",
       "      <th>Total polyunsaturated fatty acids</th>\n",
       "      <td>0.1147</td>\n",
       "      <td>0.1037</td>\n",
       "    </tr>\n",
       "    <tr>\n",
       "      <th>Total trans fatty acids</th>\n",
       "      <td>0.1281</td>\n",
       "      <td>0.1254</td>\n",
       "    </tr>\n",
       "    <tr>\n",
       "      <th>Total CLA</th>\n",
       "      <td>0.0192</td>\n",
       "      <td>0.0227</td>\n",
       "    </tr>\n",
       "    <tr>\n",
       "      <th>LA/ALA</th>\n",
       "      <td>6.2720</td>\n",
       "      <td>2.5680</td>\n",
       "    </tr>\n",
       "    <tr>\n",
       "      <th>ω-6/ω-3</th>\n",
       "      <td>5.7740</td>\n",
       "      <td>2.2760</td>\n",
       "    </tr>\n",
       "    <tr>\n",
       "      <th>ω-3/ω-6</th>\n",
       "      <td>0.2190</td>\n",
       "      <td>0.4560</td>\n",
       "    </tr>\n",
       "  </tbody>\n",
       "</table>\n",
       "</div>"
      ],
      "text/plain": [
       "                                   Conventional  Organic\n",
       "Total fatty acids                        3.0980   3.1080\n",
       "Saturated fatty acids                    2.0430   2.1160\n",
       "14:0 myristic                            0.3274   0.3490\n",
       "16:0 palmitic                            0.8995   0.9344\n",
       "18:0 stearic                             0.3559   0.3434\n",
       "Monounsaturated fatty acids              0.7944   0.7410\n",
       "18:1 incl. oleic                         0.7074   0.6505\n",
       "Total ω-3 Fatty Acids                    0.0198   0.0321\n",
       "α-linolenic acid, ALA                    0.0159   0.0255\n",
       "Total ω-6 fatty acids                    0.0948   0.0711\n",
       "18:2 linoleic, LA                        0.0856   0.0639\n",
       "Total polyunsaturated fatty acids        0.1147   0.1037\n",
       "Total trans fatty acids                  0.1281   0.1254\n",
       "Total CLA                                0.0192   0.0227\n",
       "LA/ALA                                   6.2720   2.5680\n",
       "ω-6/ω-3                                  5.7740   2.2760\n",
       "ω-3/ω-6                                  0.2190   0.4560"
      ]
     },
     "execution_count": 152,
     "metadata": {},
     "output_type": "execute_result"
    }
   ],
   "source": [
    "# An array or arrays that hold the strings for each value in rows 6 to 114\n",
    "data_rows = [sheet.row_values(r) for r in range(157, 178)]\n",
    "# cleaned_rows = np.array(len(data_rows))\n",
    "cleaned_rows = []\n",
    "counter = 0\n",
    "for row in data_rows:\n",
    "    new_row = []\n",
    "    for item in row:\n",
    "        if item == '':\n",
    "            continue\n",
    "        new_row.append(item)\n",
    "        if len(new_row) == 3:\n",
    "            break\n",
    "    counter += 1\n",
    "    cleaned_rows.append(new_row)\n",
    "\n",
    "titles = []\n",
    "conventional = []\n",
    "organic = []\n",
    "print(cleaned_rows)\n",
    "\n",
    "for row in cleaned_rows:\n",
    "    if len(row) > 1 and row[0] != '20:5 eicosapentae-        0.0025 noic, EPA' and row[0] != '22:5 docosapentae-       0.0037':\n",
    "        titles.append(row[0])\n",
    "        conventional.append(float(row[1]))\n",
    "        organic.append(float(row[2]))\n",
    "    else:\n",
    "#         conventional.append(0.0)\n",
    "#         organic.append(0.0)\n",
    "        continue\n",
    "\n",
    "# df_data = {'Title': [],\n",
    "#            'Conventional': [],\n",
    "#            'Organic': []}\n",
    "\n",
    "# for value in row_data:\n",
    "#     if len(value) == 0:\n",
    "#         df_data['Conventional'].append('NaN')\n",
    "#         df_data['Organic'].append('NaN')\n",
    "#         continue\n",
    "#     df_data['Conventional'].append(float(value[0]))\n",
    "#     df_data['Organic'].append(float(value[1]))\n",
    "\n",
    "\n",
    "\n",
    "# for value in row_titles:\n",
    "#     df_data['Title'].append(value)\n",
    "\n",
    "# # df_data    \n",
    "    \n",
    "# dfMilk = pd.DataFrame(df_data)\n",
    "# finalDfMilk = dfMilk.set_index('Title')\n",
    "# finalDfMilk\n",
    "\n",
    "df = pd.DataFrame({'Conventional': conventional,\n",
    "                   'Organic': organic}, index=titles)\n",
    "\n",
    "df"
   ]
  },
  {
   "cell_type": "code",
   "execution_count": 157,
   "metadata": {},
   "outputs": [
    {
     "data": {
      "text/plain": [
       "Text(0.5, 1.0, 'Key Fatty Acids in whole milk - Conventional v.s. Organic')"
      ]
     },
     "execution_count": 157,
     "metadata": {},
     "output_type": "execute_result"
    },
    {
     "data": {
      "image/png": "[encoded data removed]",
      "text/plain": [
       "<Figure size 1440x720 with 1 Axes>"
      ]
     },
     "metadata": {
      "needs_background": "light"
     },
     "output_type": "display_data"
    }
   ],
   "source": [
    "fig, ax = plt.subplots()\n",
    "df.plot(kind='bar', ax=ax, figsize=(20, 10), width=0.85) \n",
    "ax.set_xlabel(\"Fatty Acid Type\", fontname='Comic Sans MS', fontsize=15)\n",
    "ax.set_ylabel(\"Fatty Acids (g/100 g milk)\", fontname='Comic Sans MS', fontsize=15)\n",
    "ax.grid(alpha = 0.25)\n",
    "ax.xaxis.grid(False)\n",
    "plt.title('Key Fatty Acids in whole milk - Conventional v.s. Organic', fontname='Comic Sans MS', fontsize=20)"
   ]
  },
  {
   "cell_type": "markdown",
   "metadata": {},
   "source": [
    "### - Flavonoid and Antioxidant Counts\n",
    "\n",
    "Data is a little hard to understand (and the importnat stuff is in a word document). May/may not include later."
   ]
  },
  {
   "cell_type": "markdown",
   "metadata": {},
   "source": [
    "### - Deaths from Strengthened Bacteria"
   ]
  },
  {
   "cell_type": "code",
   "execution_count": null,
   "metadata": {},
   "outputs": [],
   "source": []
  },
  {
   "cell_type": "markdown",
   "metadata": {},
   "source": [
    "**2. Is the amount of substances (pesticides, fertilizer, antibiotics, etc) used on non-organic food harmful to us?**\n"
   ]
  },
  {
   "cell_type": "code",
   "execution_count": 2,
   "metadata": {},
   "outputs": [],
   "source": [
    "# TO-DO"
   ]
  },
  {
   "cell_type": "markdown",
   "metadata": {},
   "source": [
    "## 3. Which types of food products (fruits, vegetables, poultry, dairy, etc) have the most substances used on them in the U.S.? (Pesticides, fertilizer, antibiotics, etc)"
   ]
  },
  {
   "cell_type": "code",
   "execution_count": 3,
   "metadata": {},
   "outputs": [],
   "source": [
    "# TO-DO"
   ]
  },
  {
   "cell_type": "markdown",
   "metadata": {},
   "source": [
    "## 4. Where are substance (pesticide, fertilizer, antibiotics, etc) related poisonings/cases most common in the U.S.?"
   ]
  },
  {
   "cell_type": "code",
   "execution_count": 4,
   "metadata": {},
   "outputs": [],
   "source": [
    "# TO-DO"
   ]
  },
  {
   "cell_type": "markdown",
   "metadata": {},
   "source": [
    "## 5. Is it possible for everyone in the U.S. to eat organic? (Sustainability, crop yield, etc)"
   ]
  },
  {
   "cell_type": "code",
   "execution_count": 5,
   "metadata": {},
   "outputs": [],
   "source": [
    "# TO-DO"
   ]
  },
  {
   "cell_type": "markdown",
   "metadata": {},
   "source": [
    "## 6. How do the prices for organic and non-organic foods compare in the U.S.?"
   ]
  },
  {
   "cell_type": "code",
   "execution_count": 6,
   "metadata": {},
   "outputs": [],
   "source": [
    "# TO-DO"
   ]
  },
  {
   "cell_type": "markdown",
   "metadata": {},
   "source": [
    "## 7. Is organic farming better for the environment over non-organic food? (Water supply, global warming (gases), soil, etc)"
   ]
  },
  {
   "cell_type": "code",
   "execution_count": 7,
   "metadata": {},
   "outputs": [],
   "source": [
    "# TO-DO"
   ]
  },
  {
   "cell_type": "markdown",
   "metadata": {},
   "source": [
    "## 8. Does organic food taste any better than non-organic food?"
   ]
  },
  {
   "cell_type": "code",
   "execution_count": 8,
   "metadata": {},
   "outputs": [],
   "source": [
    "# TO-DO"
   ]
  },
  {
   "cell_type": "markdown",
   "metadata": {},
   "source": [
    "## 9. What does being “organic” mean across different types of food products?"
   ]
  },
  {
   "cell_type": "code",
   "execution_count": null,
   "metadata": {},
   "outputs": [],
   "source": [
    "# TO-DO"
   ]
  }
 ],
 "metadata": {
  "kernelspec": {
   "display_name": "Python 3",
   "language": "python",
   "name": "python3"
  },
  "language_info": {
   "codemirror_mode": {
    "name": "ipython",
    "version": 3
   },
   "file_extension": ".py",
   "mimetype": "text/x-python",
   "name": "python",
   "nbconvert_exporter": "python",
   "pygments_lexer": "ipython3",
   "version": "3.6.8"
  }
 },
 "nbformat": 4,
 "nbformat_minor": 2
}
