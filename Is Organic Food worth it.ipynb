{
 "cells": [
  {
   "cell_type": "markdown",
   "metadata": {},
   "source": [
    "# DATA LINKS"
   ]
  },
  {
   "cell_type": "markdown",
   "metadata": {},
   "source": [
    "Questions to answer and their corresponding data sets:\n",
    "\n",
    "**1. Does eating organic food have any health benefits over non-organic food? More nutritious/antioxidants? Prevent disease? Less exposure to anti-biotic resistent bacteria?**\n",
    "\n",
    "* Milk fatty acid ratios: [https://onlinelibrary.wiley.com/doi/full/10.1002/fsn3.610](https://onlinelibrary.wiley.com/doi/full/10.1002/fsn3.610)\n",
    "\n",
    "* (Limited) Flavonoids and antioxidant counts: [https://www.cambridge.org/core/journals/british-journal-of-nutrition/article/higher-antioxidant-and-lower-cadmium-concentrations-and-lower-incidence-of-pesticide-residues-in-organically-grown-crops-a-systematic-literature-review-and-metaanalyses/33F09637EAE6C4ED119E0C4BFFE2D5B1/core-reader](https://www.cambridge.org/core/journals/british-journal-of-nutrition/article/higher-antioxidant-and-lower-cadmium-concentrations-and-lower-incidence-of-pesticide-residues-in-organically-grown-crops-a-systematic-literature-review-and-metaanalyses/33F09637EAE6C4ED119E0C4BFFE2D5B1/core-reader)\n",
    "\n",
    "* Deaths from strengthened bacteria: [https://www.cdc.gov/drugresistance/threat-report-2013/pdf/ar-threats-2013-508.pdf](https://www.cdc.gov/drugresistance/threat-report-2013/pdf/ar-threats-2013-508.pdf)\n",
    "\n",
    "* https://www.organicfacts.net/organic-products/organic-food/health-benefits-of-organic-food.html -> covers tomatoes, milk, etc\n",
    "* http://www.orac-info-portal.de/download/ORAC_R2.pdf -> antioxdant relted stuff (pdf)\n",
    "* https://www.ncbi.nlm.nih.gov/pmc/articles/PMC2841576/ -> large pdf at bottom for antoxidant stuff\n",
    "\n",
    "\n",
    "**2. Is the amount of pesticides/fertilizer/antibiotics used on non-organic food harmful to us?** \n",
    "\n",
    "* Pesticide poisonings non-occupational - [https://depts.washington.edu/ceeh/downloads/FF_Pesticides.pdf](https://depts.washington.edu/ceeh/downloads/FF_Pesticides.pdf)\n",
    "\n",
    "**3. Which types of food products (fruits, vegetables, pultry, dairy, etc) have the most pesticides/fertilizer/antibiotic-resistent bacteria?** \n",
    "\n",
    "* Pesticide concentration in various produce: [https://apps.ams.usda.gov/pdp](https://apps.ams.usda.gov/pdp).\n",
    "    - Chose all commodities, all pesticides, and 2016 when generating the csv file.\n",
    "\n",
    "\n",
    "\n",
    "**4. Where are pesticide/fertilizer/antibiotic-resistent bacteria related poisonings/cases most common in the US?** \n",
    "\n",
    "* Antibiotic resistance by state per year: [https://wwwn.cdc.gov/narmsnow/](https://wwwn.cdc.gov/narmsnow/)\n",
    "\n",
    "* Occupational pesticide poisonings be state by year: [https://www.cdc.gov/niosh/topics/pesticides/animatedmap.html](https://www.cdc.gov/niosh/topics/pesticides/animatedmap.html)\n",
    "\n",
    "**5. Is it possible for everyone in the US to eat organic (i.e. produce enough organic foods)?**\n",
    "\n",
    "* Organic Sustainability long term: [https://www.theguardian.com/sustainable-business/2016/aug/14/organic-farming-agriculture-world-hunger](https://www.theguardian.com/sustainable-business/2016/aug/14/organic-farming-agriculture-world-hunger)\n",
    "\n",
    "* Predicted U.S. population growth by year: [https://www.census.gov/data/tables/2017/demo/popproj/2017-summary-tables.html](https://www.census.gov/data/tables/2017/demo/popproj/2017-summary-tables.html)\n",
    "\n",
    "**6. How do the prices of organic food compare to prices of non-organic food (latest data)?**\n",
    "\n",
    "* Price of organic versus non-organic produce: [https://www.consumerreports.org/cro/news/2015/03/cost-of-organic-food/index.htm#table1](https://www.consumerreports.org/cro/news/2015/03/cost-of-organic-food/index.htm#table1).\n",
    "    - Per serving size (pound, pint, oz, etc) \n",
    "    - Prices averaged from 8 select U.S. grocers\n",
    "\n",
    "* 2013 prices for non-organic (more data exists for dairy and such): [https://www.ers.usda.gov/data-products/fruit-and-vegetable-prices/](https://www.ers.usda.gov/data-products/fruit-and-vegetable-prices/)\n",
    "\n",
    "* Some organic prices over time (nothing very recent): [https://www.ers.usda.gov/data-products/organic-prices/](https://www.ers.usda.gov/data-products/organic-prices/)\n",
    "\n",
    "* Probably incldues organic food: https://www.bls.gov/opub/btn/volume-2/average-food-prices-a-snapshot-of-how-much-has-changed-over-a-century.htm\n",
    "\n",
    "\n",
    "\n",
    "**7. Is organic farming better for the environment versus non-organic? (think water supply, global warming (gases), soil, etc)**\n",
    "\n",
    "\n",
    "* Organic Farming Environmental Impact - [https://www.sciencedirect.com/science/article/pii/S0301479712004264](https://www.sciencedirect.com/science/article/pii/S0301479712004264)\n",
    "\n",
    "* Organic food less yield -> worse for environment - [https://geneticliteracyproject.org/2018/02/16/usda-data-confirm-organic-yields-dramatically-lower-conventional-farming/](https://geneticliteracyproject.org/2018/02/16/usda-data-confirm-organic-yields-dramatically-lower-conventional-farming/)\n",
    "\n",
    "* More analysis of crop yields - [https://journals.plos.org/plosone/article?id=10.1371/journal.pone.0161673](https://journals.plos.org/plosone/article?id=10.1371/journal.pone.0161673)\n",
    "\n",
    "* Report on environmental impact of organic foods - [https://rodaleinstitute.org/wp-content/uploads/fst-30-year-report.pdf](https://rodaleinstitute.org/wp-content/uploads/fst-30-year-report.pdf)\n",
    "\n",
    "* Report citing pesticides and fertilizers as major player in pollinator decline [https://www.sciencedirect.com/science/article/pii/S0006320718313636#t0005](https://www.sciencedirect.com/science/article/pii/S0006320718313636#t0005)\n",
    "\n",
    "**8. Does organic food actually taste better? Qualitative data**\n",
    "\n",
    "* Various qualitative plots about organic food consumption [https://www.pewresearch.org/science/2016/12/01/americans-views-about-and-consumption-of-organic-foods/](https://www.pewresearch.org/science/2016/12/01/americans-views-about-and-consumption-of-organic-foods/)\n",
    "\n",
    "* Organic label tasting bias [https://www.theatlantic.com/health/archive/2013/04/study-organic-labels-make-food-taste-healthier/274683/](https://www.theatlantic.com/health/archive/2013/04/study-organic-labels-make-food-taste-healthier/274683/)\n",
    "\n",
    "* Summarizing tasting surveys [https://medium.com/the-nature-of-food/does-organic-food-taste-better-dd5e2b2e166d](https://medium.com/the-nature-of-food/does-organic-food-taste-better-dd5e2b2e166d)\n",
    "\n",
    "\n",
    "**9. What does being “organic” mean across different types of food products?**\n",
    "\n",
    "* USDA defined rules for \"organic\" [https://www.ams.usda.gov/rules-regulations/organic](https://www.ams.usda.gov/rules-regulations/organic)\n",
    "\n",
    "**Additional Links**\n",
    "\n",
    "* Our World In Data links\n",
    "    [https://ourworldindata.org/is-organic-agriculture-better-for-the-environment](https://ourworldindata.org/is-organic-agriculture-better-for-the-environment) ;\n",
    "    [https://ourworldindata.org/yields-and-land-use-in-agriculture](https://ourworldindata.org/yields-and-land-use-in-agriculture) ;\n",
    "    [https://ourworldindata.org/fertilizer-and-pesticides](https://ourworldindata.org/fertilizer-and-pesticides)\n",
    "\n",
    "* Biodiversity database [http://livingplanetindex.org/home/index](http://livingplanetindex.org/home/index)\n",
    "\n",
    "* Another good website about food prices (but can’t access data) [https://www.ers.usda.gov/amber-waves/2016/may/investigating-retail-price-premiums-for-organic-foods/](https://www.ers.usda.gov/amber-waves/2016/may/investigating-retail-price-premiums-for-organic-foods/)\n",
    "\n",
    "* Even more graphs [https://www.ers.usda.gov/data-products/charts-of-note/charts-of-note/?topicId=14904](https://www.ers.usda.gov/data-products/charts-of-note/charts-of-note/?topicId=14904)\n"
   ]
  },
  {
   "cell_type": "markdown",
   "metadata": {},
   "source": [
    "# CODE"
   ]
  },
  {
   "cell_type": "markdown",
   "metadata": {},
   "source": [
    "**1. Does eating organic food have any health benefits over non-organic food? (Prevent disease, more nutritious, less exposure to antibiotic resistant bacteria, etc)**"
   ]
  },
  {
   "cell_type": "code",
   "execution_count": 1,
   "metadata": {},
   "outputs": [],
   "source": [
    "# TO-DO"
   ]
  },
  {
   "cell_type": "markdown",
   "metadata": {},
   "source": [
    "**2. Is the amount of substances (pesticides, fertilizer, antibiotics, etc) used on non-organic food harmful to us?**\n"
   ]
  },
  {
   "cell_type": "code",
   "execution_count": 2,
   "metadata": {},
   "outputs": [],
   "source": [
    "# TO-DO"
   ]
  },
  {
   "cell_type": "markdown",
   "metadata": {},
   "source": [
    "**3. Which types of food products (fruits, vegetables, poultry, dairy, etc) have the most substances used on them in the U.S.? (Pesticides, fertilizer, antibiotics, etc)**"
   ]
  },
  {
   "cell_type": "code",
   "execution_count": 3,
   "metadata": {},
   "outputs": [],
   "source": [
    "# TO-DO"
   ]
  },
  {
   "cell_type": "markdown",
   "metadata": {},
   "source": [
    "**4. Where are substance (pesticide, fertilizer, antibiotics, etc) related poisonings/cases most common in the U.S.?**"
   ]
  },
  {
   "cell_type": "code",
   "execution_count": 4,
   "metadata": {},
   "outputs": [],
   "source": [
    "# TO-DO"
   ]
  },
  {
   "cell_type": "markdown",
   "metadata": {},
   "source": [
    "**5. Is it possible for everyone in the U.S. to eat organic? (Sustainability, crop yield, etc)**"
   ]
  },
  {
   "cell_type": "code",
   "execution_count": 5,
   "metadata": {},
   "outputs": [],
   "source": [
    "# TO-DO"
   ]
  },
  {
   "cell_type": "markdown",
   "metadata": {},
   "source": [
    "**6. How do the prices for organic and non-organic foods compare in the U.S.?**"
   ]
  },
  {
   "cell_type": "code",
   "execution_count": 6,
   "metadata": {},
   "outputs": [],
   "source": [
    "# TO-DO"
   ]
  },
  {
   "cell_type": "markdown",
   "metadata": {},
   "source": [
    "**7. Is organic farming better for the environment over non-organic food? (Water supply, global warming (gases), soil, etc)**"
   ]
  },
  {
   "cell_type": "code",
   "execution_count": 7,
   "metadata": {},
   "outputs": [],
   "source": [
    "# TO-DO"
   ]
  },
  {
   "cell_type": "markdown",
   "metadata": {},
   "source": [
    "**8. Does organic food taste any better than non-organic food?**"
   ]
  },
  {
   "cell_type": "code",
   "execution_count": 8,
   "metadata": {},
   "outputs": [],
   "source": [
    "# TO-DO"
   ]
  },
  {
   "cell_type": "markdown",
   "metadata": {},
   "source": [
    "**9. What does being “organic” mean across different types of food products?**"
   ]
  },
  {
   "cell_type": "code",
   "execution_count": null,
   "metadata": {},
   "outputs": [],
   "source": [
    "# TO-DO"
   ]
  }
 ],
 "metadata": {
  "kernelspec": {
   "display_name": "Python 3",
   "language": "python",
   "name": "python3"
  },
  "language_info": {
   "codemirror_mode": {
    "name": "ipython",
    "version": 3
   },
   "file_extension": ".py",
   "mimetype": "text/x-python",
   "name": "python",
   "nbconvert_exporter": "python",
   "pygments_lexer": "ipython3",
   "version": "3.6.8"
  }
 },
 "nbformat": 4,
 "nbformat_minor": 2
}
