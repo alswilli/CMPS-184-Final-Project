{
 "cells": [
  {
   "cell_type": "markdown",
   "metadata": {},
   "source": [
    "# DATA LINKS"
   ]
  },
  {
   "cell_type": "markdown",
   "metadata": {},
   "source": [
    "Questions to answer and their corresponding data sets:\n",
    "\n",
    "**HEALTH**\n",
    "\n",
    "**1. Does eating organic food have any health benefits over conventional(non-organic) food? More nutritious/antioxidants? Prevent disease? Less exposure to anti-biotic resistent bacteria?**\n",
    "\n",
    "* Milk fatty acid ratios: [https://onlinelibrary.wiley.com/doi/full/10.1002/fsn3.610](https://onlinelibrary.wiley.com/doi/full/10.1002/fsn3.610)\n",
    "\n",
    "* (Limited) Flavonoids and antioxidant counts: [https://www.cambridge.org/core/journals/british-journal-of-nutrition/article/higher-antioxidant-and-lower-cadmium-concentrations-and-lower-incidence-of-pesticide-residues-in-organically-grown-crops-a-systematic-literature-review-and-metaanalyses/33F09637EAE6C4ED119E0C4BFFE2D5B1/core-reader](https://www.cambridge.org/core/journals/british-journal-of-nutrition/article/higher-antioxidant-and-lower-cadmium-concentrations-and-lower-incidence-of-pesticide-residues-in-organically-grown-crops-a-systematic-literature-review-and-metaanalyses/33F09637EAE6C4ED119E0C4BFFE2D5B1/core-reader)\n",
    "\n",
    "* Deaths from strengthened bacteria: [https://www.cdc.gov/drugresistance/threat-report-2013/pdf/ar-threats-2013-508.pdf](https://www.cdc.gov/drugresistance/threat-report-2013/pdf/ar-threats-2013-508.pdf)\n",
    "\n",
    "* https://www.organicfacts.net/organic-products/organic-food/health-benefits-of-organic-food.html -> covers tomatoes, milk, etc\n",
    "    - tomatoes [https://pubs.acs.org/doi/pdf/10.1021/jf0346861] \n",
    "* http://www.orac-info-portal.de/download/ORAC_R2.pdf -> antioxdant related stuff (pdf)\n",
    "* https://www.ncbi.nlm.nih.gov/pmc/articles/PMC2841576/ -> large pdf at bottom for antoxidant stuff\n",
    "\n",
    "\n",
    "**2. Is the amount of pesticides/fertilizer/antibiotics used on conventional food harmful to us?** \n",
    "\n",
    "* Pesticide poisonings non-occupational - [https://depts.washington.edu/ceeh/downloads/FF_Pesticides.pdf](https://depts.washington.edu/ceeh/downloads/FF_Pesticides.pdf)\n",
    "\n",
    "**3. Which types of food products (fruits, vegetables, pultry, dairy, etc) have the most pesticides/fertilizer/antibiotic-resistent bacteria?** \n",
    "\n",
    "* Pesticide concentration in various produce: [https://apps.ams.usda.gov/pdp](https://apps.ams.usda.gov/pdp).\n",
    "    - Chose all commodities, all pesticides, and any year when generating the csv file (smmary of findings, pos detects)\n",
    "    \n",
    "**COST**\n",
    "\n",
    "**6. How do the prices of organic food compare to prices of conventional food (latest data)?**\n",
    "\n",
    "* Price of organic versus conventional produce: [https://www.consumerreports.org/cro/news/2015/03/cost-of-organic-food/index.htm#table1](https://www.consumerreports.org/cro/news/2015/03/cost-of-organic-food/index.htm#table1).\n",
    "    - Per serving size (pound, pint, oz, etc) \n",
    "    - Prices averaged from 8 select U.S. grocers\n",
    "\n",
    "* 2013 prices for conventional (more data exists for dairy and such): [https://www.ers.usda.gov/data-products/fruit-and-vegetable-prices/](https://www.ers.usda.gov/data-products/fruit-and-vegetable-prices/)\n",
    "\n",
    "* Some organic prices over time (nothing very recent): [https://www.ers.usda.gov/data-products/organic-prices/](https://www.ers.usda.gov/data-products/organic-prices/)\n",
    "\n",
    "* Probably incldues organic food: https://www.bls.gov/opub/btn/volume-2/average-food-prices-a-snapshot-of-how-much-has-changed-over-a-century.htm\n",
    "\n",
    "**SUSTAINABILITY**\n",
    "\n",
    "**7. Is organic farming better for the environment versus conventional? (think water supply, global warming (gases), soil, etc)**\n",
    "\n",
    "\n",
    "* Organic Farming Environmental Impact - [https://www.sciencedirect.com/science/article/pii/S0301479712004264](https://www.sciencedirect.com/science/article/pii/S0301479712004264)\n",
    "\n",
    "* Organic food less yield -> worse for environment - [https://geneticliteracyproject.org/2018/02/16/usda-data-confirm-organic-yields-dramatically-lower-conventional-farming/](https://geneticliteracyproject.org/2018/02/16/usda-data-confirm-organic-yields-dramatically-lower-conventional-farming/)\n",
    "\n",
    "* More analysis of crop yields - [https://journals.plos.org/plosone/article?id=10.1371/journal.pone.0161673](https://journals.plos.org/plosone/article?id=10.1371/journal.pone.0161673)\n",
    "\n",
    "* Report on environmental impact of organic foods - [https://rodaleinstitute.org/wp-content/uploads/fst-30-year-report.pdf](https://rodaleinstitute.org/wp-content/uploads/fst-30-year-report.pdf)\n",
    "\n",
    "* Report citing pesticides and fertilizers as major player in pollinator decline [https://www.sciencedirect.com/science/article/pii/S0006320718313636#t0005](https://www.sciencedirect.com/science/article/pii/S0006320718313636#t0005)\n",
    "\n",
    "**Additional Links**\n",
    "\n",
    "* Our World In Data links\n",
    "    [https://ourworldindata.org/is-organic-agriculture-better-for-the-environment](https://ourworldindata.org/is-organic-agriculture-better-for-the-environment) ;\n",
    "    [https://ourworldindata.org/yields-and-land-use-in-agriculture](https://ourworldindata.org/yields-and-land-use-in-agriculture) ;\n",
    "    [https://ourworldindata.org/fertilizer-and-pesticides](https://ourworldindata.org/fertilizer-and-pesticides)\n",
    "\n",
    "* Biodiversity database [http://livingplanetindex.org/home/index](http://livingplanetindex.org/home/index)\n",
    "\n",
    "* Another good website about food prices (but can’t access data) [https://www.ers.usda.gov/amber-waves/2016/may/investigating-retail-price-premiums-for-organic-foods/](https://www.ers.usda.gov/amber-waves/2016/may/investigating-retail-price-premiums-for-organic-foods/)\n",
    "\n",
    "* Even more graphs [https://www.ers.usda.gov/data-products/charts-of-note/charts-of-note/?topicId=14904](https://www.ers.usda.gov/data-products/charts-of-note/charts-of-note/?topicId=14904)\n",
    "\n",
    "**Questions Left Behind**\n",
    "\n",
    "**4. Where are pesticide/fertilizer/antibiotic-resistent bacteria related poisonings/cases most common in the US?** \n",
    "\n",
    "* Antibiotic resistance by state per year: [https://wwwn.cdc.gov/narmsnow/](https://wwwn.cdc.gov/narmsnow/)\n",
    "\n",
    "* Occupational pesticide poisonings be state by year: [https://www.cdc.gov/niosh/topics/pesticides/animatedmap.html](https://www.cdc.gov/niosh/topics/pesticides/animatedmap.html)\n",
    "\n",
    "**5. Is it possible for everyone in the US to eat organic (i.e. produce enough organic foods)?**\n",
    "\n",
    "* Organic Sustainability long term: [https://www.theguardian.com/sustainable-business/2016/aug/14/organic-farming-agriculture-world-hunger](https://www.theguardian.com/sustainable-business/2016/aug/14/organic-farming-agriculture-world-hunger)\n",
    "\n",
    "* Predicted U.S. population growth by year: [https://www.census.gov/data/tables/2017/demo/popproj/2017-summary-tables.html](https://www.census.gov/data/tables/2017/demo/popproj/2017-summary-tables.html)\n",
    "\n",
    "**8. Does organic food actually taste better? Qualitative data**\n",
    "\n",
    "* Various qualitative plots about organic food consumption [https://www.pewresearch.org/science/2016/12/01/americans-views-about-and-consumption-of-organic-foods/](https://www.pewresearch.org/science/2016/12/01/americans-views-about-and-consumption-of-organic-foods/)\n",
    "\n",
    "* Organic label tasting bias [https://www.theatlantic.com/health/archive/2013/04/study-organic-labels-make-food-taste-healthier/274683/](https://www.theatlantic.com/health/archive/2013/04/study-organic-labels-make-food-taste-healthier/274683/)\n",
    "\n",
    "* Summarizing tasting surveys [https://medium.com/the-nature-of-food/does-organic-food-taste-better-dd5e2b2e166d](https://medium.com/the-nature-of-food/does-organic-food-taste-better-dd5e2b2e166d)\n",
    "\n",
    "\n",
    "**9. What does being “organic” mean across different types of food products?**\n",
    "\n",
    "* USDA defined rules for \"organic\" [https://www.ams.usda.gov/rules-regulations/organic](https://www.ams.usda.gov/rules-regulations/organic)\n"
   ]
  },
  {
   "cell_type": "markdown",
   "metadata": {},
   "source": [
    "# CODE\n",
    "\n",
    "Here is the general format for each dataset in each questions section:\n",
    "    - Data Wrangling\n",
    "        - State anything involved with extrating and cleaning the data + say why certain varibles are being created and why some data is being left out\n",
    "    - Data Plotting \n",
    "        - Plot the data from variables generated during data wrangling\n",
    "    - Data Analysis\n",
    "        - Discuss the outcomes of the data nd how it answers the question(s) being asked about section\n",
    "        \n",
    "ALSO, may move all the code to Python file functions so that everything is a lot more clean and directed (like a research presentation) -> Maybe chek out the Titanic examplke again as a project guideline for everything\n",
    "\n",
    "SCOPE: We should hpe to have a graph or two for every question minimally.\n",
    "\n",
    "**NOTE: We used Adobe Acrobat's \"PDF to Excel\" converter to transform pdf data to Excel that we could then access.** "
   ]
  },
  {
   "cell_type": "markdown",
   "metadata": {},
   "source": [
    "# HEALTH"
   ]
  },
  {
   "cell_type": "markdown",
   "metadata": {},
   "source": [
    "## 1. Does eating organic food have any health benefits over conventional (non-organic) food? \n",
    "\n",
    "One of this biggest factors contributing to the rise of organic food consumption over conventional food is the belief that organic food is healthier than conventional food. In order to shed some light on this issue, this section examines whether organic food provides various health benefits over conventional food. These benefits include increased fatty acid ratios, increased flavonoid and antioxidant counts, and less exposure to antibiotic resistant bacteria. Through presentation of data related to these topics, we can quantitatively analyze the postive impact organic food does, or does not, have on our health in comparison to conventional food. "
   ]
  },
  {
   "cell_type": "markdown",
   "metadata": {},
   "source": [
    "### 1.1 - Fatty Acid Ratios in Organic and Conventionally produced Milk\n",
    "\n",
    "We first take a look at data which measures the ratios for various important fatty acids in both organic and conventional milk. "
   ]
  },
  {
   "cell_type": "markdown",
   "metadata": {},
   "source": [
    "#### Data Wrangling"
   ]
  },
  {
   "cell_type": "markdown",
   "metadata": {},
   "source": [
    "To start, we import various Python libraries needed for the work done below. "
   ]
  },
  {
   "cell_type": "code",
   "execution_count": 73,
   "metadata": {},
   "outputs": [],
   "source": [
    "# Import necessary libraries \n",
    "import xlrd\n",
    "import agate\n",
    "import os\n",
    "import numpy as np\n",
    "import pandas as pd\n",
    "import matplotlib.pyplot as plt\n",
    "%matplotlib inline"
   ]
  },
  {
   "cell_type": "markdown",
   "metadata": {},
   "source": [
    "Next, we store the Excel file for the milk data in a local variable. Here, we have already combed through the Excel file to make sure the cells for the data we are going to access are preserved well after being converted from PDF to Excel. Typical  errors that we fix include joined cells of data (separated out) and additional rows of data from parsing text spacing incorrectly (deleted)."
   ]
  },
  {
   "cell_type": "code",
   "execution_count": 74,
   "metadata": {},
   "outputs": [
    {
     "name": "stderr",
     "output_type": "stream",
     "text": [
      "C:\\ANACONDA\\lib\\site-packages\\xlrd\\xlsx.py:266: PendingDeprecationWarning: This method will be removed in future versions.  Use 'tree.iter()' or 'list(tree.iter())' instead.\n",
      "C:\\ANACONDA\\lib\\site-packages\\xlrd\\xlsx.py:312: PendingDeprecationWarning: This method will be removed in future versions.  Use 'tree.iter()' or 'list(tree.iter())' instead.\n",
      "C:\\ANACONDA\\lib\\site-packages\\xlrd\\xlsx.py:266: PendingDeprecationWarning: This method will be removed in future versions.  Use 'tree.iter()' or 'list(tree.iter())' instead.\n"
     ]
    }
   ],
   "source": [
    "# Imports the xlsx file and verifies it is the correct data with title and number of sheets\n",
    "path_to_milk_data = os.path.join('Data', '1', 'Milk', 'Benbrook_et_al-2018-Food_Science_&_Nutrition.xlsx')\n",
    "\n",
    "workbook = xlrd.open_workbook(path_to_milk_data)\n",
    "sheet = workbook.sheets()[0]"
   ]
  },
  {
   "cell_type": "markdown",
   "metadata": {},
   "source": [
    "Now we begin to wrangle the data into dataframes which we can then graph during the data visualization step. "
   ]
  },
  {
   "cell_type": "markdown",
   "metadata": {},
   "source": [
    "We grab the sheet row values for the range in which the desired table is pictured. "
   ]
  },
  {
   "cell_type": "code",
   "execution_count": 75,
   "metadata": {},
   "outputs": [],
   "source": [
    "data_rows = [sheet.row_values(r) for r in range(157, 178)]\n",
    "# cleaned_rows = np.array(len(data_rows))"
   ]
  },
  {
   "cell_type": "markdown",
   "metadata": {},
   "source": [
    "After that, we clean the rows of any unnecessary space characters, as well as unwanted rows. The two unwanted rows here are deleted because their values are too small to show on the graphs below. We separate out the various types of data from the rows into separate arrays so they can be easily accessed from graphing. "
   ]
  },
  {
   "cell_type": "code",
   "execution_count": 76,
   "metadata": {},
   "outputs": [],
   "source": [
    "cleaned_rows = []\n",
    "counter = 0\n",
    "for row in data_rows:\n",
    "    new_row = []\n",
    "    for item in row:\n",
    "        if item == '':\n",
    "            continue\n",
    "        new_row.append(item)\n",
    "        if len(new_row) == 3:\n",
    "            break\n",
    "    counter += 1\n",
    "    cleaned_rows.append(new_row)\n",
    "\n",
    "titles = []\n",
    "conventional = []\n",
    "organic = []\n",
    "# print(cleaned_rows)\n",
    "\n",
    "for row in cleaned_rows:\n",
    "    if len(row) > 1 and row[0] != '20:5 eicosapentae-        0.0025 noic, EPA' and row[0] != '22:5 docosapentae-       0.0037':\n",
    "        titles.append(row[0])\n",
    "        conventional.append(float(row[1]))\n",
    "        organic.append(float(row[2]))\n",
    "    else:\n",
    "#         conventional.append(0.0)\n",
    "#         organic.append(0.0)\n",
    "        continue"
   ]
  },
  {
   "cell_type": "markdown",
   "metadata": {},
   "source": [
    "Additional separation of values is done so that the dataframes needed for graphing can be successfully formed.  "
   ]
  },
  {
   "cell_type": "code",
   "execution_count": 77,
   "metadata": {},
   "outputs": [],
   "source": [
    "# df_data = {'Title': [],\n",
    "#            'Conventional': [],\n",
    "#            'Organic': []}\n",
    "\n",
    "# for value in row_data:\n",
    "#     if len(value) == 0:\n",
    "#         df_data['Conventional'].append('NaN')\n",
    "#         df_data['Organic'].append('NaN')\n",
    "#         continue\n",
    "#     df_data['Conventional'].append(float(value[0]))\n",
    "#     df_data['Organic'].append(float(value[1]))\n",
    "\n",
    "\n",
    "\n",
    "# for value in row_titles:\n",
    "#     df_data['Title'].append(value)\n",
    "\n",
    "# # df_data    \n",
    "    \n",
    "# dfMilk = pd.DataFrame(df_data)\n",
    "# finalDfMilk = dfMilk.set_index('Title')\n",
    "# finalDfMilk\n",
    "\n",
    "# conventional.append(float(0.0025))\n",
    "# conventional.append(float(0.0033))\n",
    "\n",
    "# organic.append(float(0.0037))\n",
    "# organic.append(float(0.0044))\n",
    "\n",
    "# titles.append('20:5 eicosapentae-noic, EPA')\n",
    "# titles.append('22:5 docosapentae-noic, DPA')\n",
    "\n",
    "conventionalIndiv = []\n",
    "organicIndiv = []\n",
    "titlesIndiv = []\n",
    "conventionalTotal = []\n",
    "organicTotal = []\n",
    "titlesTotal = []\n",
    "conventionalRatio = []\n",
    "organicRatio = []\n",
    "titlesRatio = []\n",
    "\n",
    "for index, name in enumerate(titles):\n",
    "    if 'Total' in name or 'acids' in name:\n",
    "        titlesTotal.append(name)\n",
    "        conventionalTotal.append(conventional[index])\n",
    "        organicTotal.append(organic[index])\n",
    "    elif '/' in name:\n",
    "        titlesRatio.append(name)\n",
    "        conventionalRatio.append(conventional[index])\n",
    "        organicRatio.append(organic[index])\n",
    "    else:\n",
    "        titlesIndiv.append(name)\n",
    "        conventionalIndiv.append(conventional[index])\n",
    "        organicIndiv.append(organic[index])\n",
    "\n",
    "dfIndiv = pd.DataFrame({'Conventional': conventionalIndiv,\n",
    "                   'Organic': organicIndiv}, index=titlesIndiv)\n",
    "\n",
    "dfTotal = pd.DataFrame({'Conventional': conventionalTotal,\n",
    "                   'Organic': organicTotal}, index=titlesTotal)\n",
    "\n",
    "dfRatio = pd.DataFrame({'Conventional': conventionalRatio,\n",
    "                   'Organic': organicRatio}, index=titlesRatio)\n",
    "\n",
    "dfIndiv = dfIndiv.sort_values('Conventional', ascending=False)\n",
    "dfTotal = dfTotal.sort_values('Conventional', ascending=False)\n",
    "dfRatio = dfRatio.sort_values('Conventional', ascending=False)\n",
    "\n",
    "# delete the individuals, focus on the big picture"
   ]
  },
  {
   "cell_type": "markdown",
   "metadata": {},
   "source": [
    "#### Data Visualization"
   ]
  },
  {
   "cell_type": "markdown",
   "metadata": {},
   "source": [
    "Now that we have the data frames we need, we can plot the data with several bar gaphs."
   ]
  },
  {
   "cell_type": "markdown",
   "metadata": {},
   "source": [
    "The first graph below compares the fatty acid content in organic and conventional milk for individual types of fatty acids. The results are measured using grames of fatty acid per 100 grams of milk. "
   ]
  },
  {
   "cell_type": "code",
   "execution_count": 78,
   "metadata": {},
   "outputs": [
    {
     "data": {
      "text/plain": [
       "Text(0.5, 1.0, 'Individual Fatty Acids in whole milk - Conventional v.s. Organic')"
      ]
     },
     "execution_count": 78,
     "metadata": {},
     "output_type": "execute_result"
    },
    {
     "data": {
      "image/png": "[encoded data removed]",
      "text/plain": [
       "<Figure size 1440x720 with 1 Axes>"
      ]
     },
     "metadata": {
      "needs_background": "light"
     },
     "output_type": "display_data"
    }
   ],
   "source": [
    "fig, ax = plt.subplots()\n",
    "dfIndiv.plot(kind='bar', ax=ax, figsize=(20, 10), width=0.85, zorder = 3) \n",
    "ax.set_xlabel(\"Fatty Acid Type\", fontname='Comic Sans MS', fontsize=15)\n",
    "ax.set_ylabel(\"Fatty Acids (g/100 g milk)\", fontname='Comic Sans MS', fontsize=15)\n",
    "ax.grid(alpha = 0.25, color = 'black', zorder = 0)\n",
    "ax.xaxis.grid(False)\n",
    "plt.title('Individual Fatty Acids in whole milk - Conventional v.s. Organic', fontname='Comic Sans MS', fontsize=20)"
   ]
  },
  {
   "cell_type": "markdown",
   "metadata": {},
   "source": [
    "From left to right:\n",
    "\n",
    "- 16:0 palmitic -> Saturated fatty acid with 16-carbon backbone\n",
    "- 18:1 incl. oleic -> Monosaturated omega-9 with lipid number (carbon count) of 18:1 cis-9\n",
    "- 18:0 stearic -> Saturated fatty acid with 18-carbon backbone\n",
    "- 14:0 myristic -> Saturated fatty acid with 14 carbon backbone\n",
    "- 18:2 linoleic, LA -> omega-6 fatty acid with lipid number of 18:2\n",
    "- a-linolenic acid, ALA -> omega-3 fatty acid"
   ]
  },
  {
   "cell_type": "markdown",
   "metadata": {},
   "source": [
    "The second graph shows the totals across all fatty acid groups."
   ]
  },
  {
   "cell_type": "code",
   "execution_count": 79,
   "metadata": {},
   "outputs": [
    {
     "data": {
      "text/plain": [
       "Text(0.5, 1.0, 'Total Fatty Acids in whole milk - Conventional v.s. Organic')"
      ]
     },
     "execution_count": 79,
     "metadata": {},
     "output_type": "execute_result"
    },
    {
     "data": {
      "image/png": "[encoded data removed]",
      "text/plain": [
       "<Figure size 1440x720 with 1 Axes>"
      ]
     },
     "metadata": {
      "needs_background": "light"
     },
     "output_type": "display_data"
    }
   ],
   "source": [
    "fig, ax = plt.subplots()\n",
    "dfTotal.plot(kind='bar', ax=ax, figsize=(20, 10), width=0.85, zorder = 3) \n",
    "ax.set_xlabel(\"Fatty Acid Type\", fontname='Comic Sans MS', fontsize=15)\n",
    "ax.set_ylabel(\"Fatty Acids (g/100 g milk)\", fontname='Comic Sans MS', fontsize=15)\n",
    "ax.grid(alpha = 0.25, color = 'black', zorder = 0)\n",
    "ax.xaxis.grid(False)\n",
    "plt.title('Total Fatty Acids in whole milk - Conventional v.s. Organic', fontname='Comic Sans MS', fontsize=20)"
   ]
  },
  {
   "cell_type": "markdown",
   "metadata": {},
   "source": [
    "The third graph show the ratios of important fatty acid groups. "
   ]
  },
  {
   "cell_type": "code",
   "execution_count": 80,
   "metadata": {},
   "outputs": [
    {
     "data": {
      "text/plain": [
       "Text(0.5, 1.0, 'Ratios of Fatty Acids in whole milk - Conventional v.s. Organic')"
      ]
     },
     "execution_count": 80,
     "metadata": {},
     "output_type": "execute_result"
    },
    {
     "data": {
      "image/png": "[encoded data removed]",
      "text/plain": [
       "<Figure size 1440x720 with 1 Axes>"
      ]
     },
     "metadata": {
      "needs_background": "light"
     },
     "output_type": "display_data"
    }
   ],
   "source": [
    "fig, ax = plt.subplots()\n",
    "dfRatio.plot(kind='bar', ax=ax, figsize=(20, 10), width=0.85, zorder = 3) \n",
    "ax.set_xlabel(\"Fatty Acid Type\", fontname='Comic Sans MS', fontsize=15)\n",
    "ax.set_ylabel(\"Fatty Acids (g/100 g milk)\", fontname='Comic Sans MS', fontsize=15)\n",
    "ax.grid(alpha = 0.25, color = 'black', zorder = 0)\n",
    "ax.xaxis.grid(False)\n",
    "plt.title('Ratios of Fatty Acids in whole milk - Conventional v.s. Organic', fontname='Comic Sans MS', fontsize=20)"
   ]
  },
  {
   "cell_type": "markdown",
   "metadata": {},
   "source": [
    "#### Data Analysis"
   ]
  },
  {
   "cell_type": "markdown",
   "metadata": {},
   "source": [
    "We now discuss the results of the data to determine whether organic or conventional milk contains more or less fatty acids. (etc)"
   ]
  },
  {
   "cell_type": "markdown",
   "metadata": {},
   "source": [
    "Essential Fatty Acids (EFAs) in general are essential nutrients that play a large role in keeping our cells healthy and avoid chronic, life-threatening diseases (see https://www.tandfonline.com/doi/full/10.1080/19390210902861841). We cannot create EFAs in the body ourselves, so we must intake them from the foods we eat. Therefore, it is important that the food we eat is not lacking in levels of these fatty acids. \n",
    "\n",
    "Some of the more critical fatty acids in terms of their impact on our health are omega-3 (w-3) and omega-6 (w-6) fatty acids. It is crucial that we keep a balanced ratio between ingesting w-3 and w-6 acids, as an increased w-6 / w-3 ratio has been shown to cause cellular structure deformation that can lead to loss of function and disease. It is clear from chart 3 above that the ratio of w-6 to w-3 acids is much worse in conventional food versus organic food. Let us examine exactly how much more below:"
   ]
  },
  {
   "cell_type": "code",
   "execution_count": 81,
   "metadata": {},
   "outputs": [
    {
     "name": "stdout",
     "output_type": "stream",
     "text": [
      "Conventional produce on average has a omega-6 / omega-3 ratio that is 2.536906854130053 times the omega-6 / omega-3 ratio found on average in Organic produce!\n"
     ]
    }
   ],
   "source": [
    "omega6v3Conv = conventionalRatio[1]   \n",
    "omega6v3Org = organicRatio[1]\n",
    "\n",
    "ratio = omega6v3Conv / omega6v3Org\n",
    "print(\"Conventional produce on average has a omega-6 / omega-3 ratio that is \" + (str(ratio)) + \" times the omega-6 / omega-3 ratio found on average in Organic produce!\")"
   ]
  },
  {
   "cell_type": "markdown",
   "metadata": {},
   "source": [
    "Linoleic acid (LA) is an important w-6 acid, while a-lenolenic acid (ALA) is an important w-3 acid. Let's also examine the ratio of LA/ALA in conventional foodersus organic food:"
   ]
  },
  {
   "cell_type": "code",
   "execution_count": 82,
   "metadata": {},
   "outputs": [
    {
     "name": "stdout",
     "output_type": "stream",
     "text": [
      "Conventional produce on average has a LA / ALA ratio that is 2.4423676012461057 times the LA / ALA ratio found on average in Organic produce!\n"
     ]
    }
   ],
   "source": [
    "omega6v3Conv = conventionalRatio[0]   \n",
    "omega6v3Org = organicRatio[0]\n",
    "\n",
    "ratio = omega6v3Conv / omega6v3Org\n",
    "print(\"Conventional produce on average has a LA / ALA ratio that is \" + (str(ratio)) + \" times the LA / ALA ratio found on average in Organic produce!\")"
   ]
  },
  {
   "cell_type": "markdown",
   "metadata": {},
   "source": [
    "Unfortunately, the data exhibited for the rest of the fatty acid content shows no trend towards preferring organic or conventional foods. As shown in particular by the total number of fatty acids for each type of food, there is not much change in value between either types. Additionally, these counts are only based on one professional study and for one type of food product containing fatty acids, so it is not fair to say that this data is representative for all types of Organic and Conventional produce. However, research has shown that the reason behind the higher w-6 / w-3 and LA / ALA ratios seen here is due to conventionally-based cows eating less nutritious foods in comparison to their organically-based counterparts, thus producing less nutritious milk. Therefore, we can make an educated assumption that other conventionally-based animals who help produce foods that are high in EFAs may encounter the same issue, making organic foods seem like the healthier option for this scenario. "
   ]
  },
  {
   "cell_type": "markdown",
   "metadata": {},
   "source": [
    "### 1.2 - Flavonoid and Antioxidant Counts\n",
    "\n",
    "Data is a little hard to understand (and the importnat stuff is in a word document). May/may not include later."
   ]
  },
  {
   "cell_type": "markdown",
   "metadata": {},
   "source": [
    "#### Data Wrangling"
   ]
  },
  {
   "cell_type": "code",
   "execution_count": null,
   "metadata": {},
   "outputs": [],
   "source": []
  },
  {
   "cell_type": "markdown",
   "metadata": {},
   "source": [
    "#### Data Visualization"
   ]
  },
  {
   "cell_type": "code",
   "execution_count": null,
   "metadata": {},
   "outputs": [],
   "source": []
  },
  {
   "cell_type": "markdown",
   "metadata": {},
   "source": [
    "#### Data Analysis"
   ]
  },
  {
   "cell_type": "code",
   "execution_count": null,
   "metadata": {},
   "outputs": [],
   "source": []
  },
  {
   "cell_type": "markdown",
   "metadata": {},
   "source": [
    "### 1.3 - Deaths from Strengthened Bacteria"
   ]
  },
  {
   "cell_type": "markdown",
   "metadata": {},
   "source": [
    "#### Data Wrangling"
   ]
  },
  {
   "cell_type": "code",
   "execution_count": null,
   "metadata": {},
   "outputs": [],
   "source": [
    "# Another bar chart -> bacteria type versus number of deaths"
   ]
  },
  {
   "cell_type": "markdown",
   "metadata": {},
   "source": [
    "#### Data Visualization"
   ]
  },
  {
   "cell_type": "code",
   "execution_count": null,
   "metadata": {},
   "outputs": [],
   "source": []
  },
  {
   "cell_type": "markdown",
   "metadata": {},
   "source": [
    "#### Data Analysis"
   ]
  },
  {
   "cell_type": "code",
   "execution_count": null,
   "metadata": {},
   "outputs": [],
   "source": []
  },
  {
   "cell_type": "markdown",
   "metadata": {},
   "source": [
    "### 1.4 - Tomatoes"
   ]
  },
  {
   "cell_type": "markdown",
   "metadata": {},
   "source": [
    "#### Data Wrangling"
   ]
  },
  {
   "cell_type": "code",
   "execution_count": null,
   "metadata": {},
   "outputs": [],
   "source": []
  },
  {
   "cell_type": "markdown",
   "metadata": {},
   "source": [
    "#### Data Visualization"
   ]
  },
  {
   "cell_type": "code",
   "execution_count": null,
   "metadata": {},
   "outputs": [],
   "source": []
  },
  {
   "cell_type": "markdown",
   "metadata": {},
   "source": [
    "#### Data Analysis"
   ]
  },
  {
   "cell_type": "code",
   "execution_count": null,
   "metadata": {},
   "outputs": [],
   "source": []
  },
  {
   "cell_type": "markdown",
   "metadata": {},
   "source": [
    "## 2. Is the amount of substances (pesticides, fertilizer, antibiotics, etc) used on conventional food harmful to us?"
   ]
  },
  {
   "cell_type": "code",
   "execution_count": null,
   "metadata": {},
   "outputs": [],
   "source": [
    "# TO-DO"
   ]
  },
  {
   "cell_type": "markdown",
   "metadata": {},
   "source": [
    "## 3. Which types of food products (fruits, vegetables, poultry, dairy, etc) have the most substances used on them in the U.S.? (Pesticides, fertilizer, antibiotics, etc)"
   ]
  },
  {
   "cell_type": "markdown",
   "metadata": {},
   "source": [
    "### 3.1 - Pesticide Detection in Various Produce over Time"
   ]
  },
  {
   "cell_type": "markdown",
   "metadata": {},
   "source": [
    "#### Data Wrangling"
   ]
  },
  {
   "cell_type": "code",
   "execution_count": 84,
   "metadata": {},
   "outputs": [
    {
     "name": "stdout",
     "output_type": "stream",
     "text": [
      "2013: 18136 detections\n",
      "2014: 22363 detections\n",
      "2015: 38751 detections\n",
      "2016: 31981 detections\n",
      "2017: 12934 detections\n"
     ]
    }
   ],
   "source": [
    "# Gathers the data for produce samples with defects for several years (stores in dataframe)\n",
    "dfPesticide2013 = pd.read_csv(os.path.join('Data', '3', 'Pesticide', 'SummaryOfFindings2013.csv'), usecols=['Number of Samples with Detects'])\n",
    "dfPesticide2014 = pd.read_csv(os.path.join('Data', '3', 'Pesticide', 'SummaryOfFindings2014.csv'), usecols=['Number of Samples with Detects'])\n",
    "dfPesticide2015 = pd.read_csv(os.path.join('Data', '3', 'Pesticide', 'SummaryOfFindings2015.csv'), usecols=['Number of Samples with Detects'])\n",
    "dfPesticide2016 = pd.read_csv(os.path.join('Data', '3', 'Pesticide', 'SummaryOfFindings2016.csv'), usecols=['Number of Samples with Detects'])\n",
    "dfPesticide2017 = pd.read_csv(os.path.join('Data', '3', 'Pesticide', 'SummaryOfFindings2017.csv'), usecols=['Number of Samples with Detects'])\n",
    "\n",
    "pesticideValues = []\n",
    "\n",
    "# Appends the total number of defects per year into an array (index maps to a new year). \n",
    "# This data is later plotted on the line graph with appropriate labeling\n",
    "pesticideValues.append(np.sum(dfPesticide2013['Number of Samples with Detects'].values))\n",
    "pesticideValues.append(np.sum(dfPesticide2014['Number of Samples with Detects'].values))\n",
    "pesticideValues.append(np.sum(dfPesticide2015['Number of Samples with Detects'].values))\n",
    "pesticideValues.append(np.sum(dfPesticide2016['Number of Samples with Detects'].values))\n",
    "pesticideValues.append(np.sum(dfPesticide2017['Number of Samples with Detects'].values))\n",
    "\n",
    "count = 3\n",
    "for year in pesticideValues:\n",
    "    print('201'+ str(count) + \": \" + str(year) + ' detections')\n",
    "    count += 1"
   ]
  },
  {
   "cell_type": "markdown",
   "metadata": {},
   "source": [
    "#### Data Visualization"
   ]
  },
  {
   "cell_type": "code",
   "execution_count": 85,
   "metadata": {},
   "outputs": [
    {
     "data": {
      "text/plain": [
       "[Text(0, 0, '0'),\n",
       " Text(0, 0, '10000'),\n",
       " Text(0, 0, '20000'),\n",
       " Text(0, 0, '30000'),\n",
       " Text(0, 0, '40000')]"
      ]
     },
     "execution_count": 85,
     "metadata": {},
     "output_type": "execute_result"
    },
    {
     "data": {
      "image/png": "[encoded data removed]",
      "text/plain": [
       "<Figure size 1440x720 with 1 Axes>"
      ]
     },
     "metadata": {
      "needs_background": "light"
     },
     "output_type": "display_data"
    }
   ],
   "source": [
    "fig = plt.figure(figsize=(20, 10))\n",
    "ax = fig.add_subplot(1, 1, 1)\n",
    "ax.plot(pesticideValues, 'g', label='Trend', linewidth=4)\n",
    "ax.set_xlabel(\"Years\", fontname='Comic Sans MS', fontsize=15)\n",
    "ax.set_ylabel(\"Detects\", fontname='Comic Sans MS', fontsize=15)\n",
    "plt.title('Pesticide Detects on Produce: 2013-2017', fontname='Comic Sans MS', fontsize=20)\n",
    "ax.legend(loc='best')\n",
    "ax.set_xticks([0, 1, 2, 3, 4])\n",
    "ax.set_xticklabels(['2013', '2014', '2015', '2016', '2017'])\n",
    "ax.set_yticks([0, 10000, 20000, 30000, 40000])\n",
    "ax.set_yticklabels(['0', '10000', '20000', '30000', '40000'])"
   ]
  },
  {
   "cell_type": "code",
   "execution_count": 290,
   "metadata": {},
   "outputs": [],
   "source": [
    "# Need to make the graph above a sliding graph?"
   ]
  },
  {
   "cell_type": "markdown",
   "metadata": {},
   "source": [
    "#### Data Analysis"
   ]
  },
  {
   "cell_type": "code",
   "execution_count": null,
   "metadata": {},
   "outputs": [],
   "source": []
  },
  {
   "cell_type": "markdown",
   "metadata": {},
   "source": [
    "### 3.2 - Pecticide Detection in various produce: Top-10 Pesticides and Top-10 Crops (Individual and Cumulative Years)"
   ]
  },
  {
   "cell_type": "markdown",
   "metadata": {},
   "source": [
    "#### Data Wrangling"
   ]
  },
  {
   "cell_type": "code",
   "execution_count": 86,
   "metadata": {},
   "outputs": [
    {
     "data": {
      "text/html": [
       "<div>\n",
       "<style scoped>\n",
       "    .dataframe tbody tr th:only-of-type {\n",
       "        vertical-align: middle;\n",
       "    }\n",
       "\n",
       "    .dataframe tbody tr th {\n",
       "        vertical-align: top;\n",
       "    }\n",
       "\n",
       "    .dataframe thead th {\n",
       "        text-align: right;\n",
       "    }\n",
       "</style>\n",
       "<table border=\"1\" class=\"dataframe\">\n",
       "  <thead>\n",
       "    <tr style=\"text-align: right;\">\n",
       "      <th></th>\n",
       "      <th>Pesticide Name</th>\n",
       "      <th>Commodity</th>\n",
       "      <th>Number of Samples Analyzed</th>\n",
       "      <th>Number of Samples with Detects</th>\n",
       "      <th>Pct of Samples with Detects</th>\n",
       "      <th>Min Detect</th>\n",
       "      <th>Max Detect</th>\n",
       "      <th>LOD Range</th>\n",
       "      <th>pp_</th>\n",
       "      <th>EPA Tolerance (ppm)</th>\n",
       "    </tr>\n",
       "  </thead>\n",
       "  <tbody>\n",
       "    <tr>\n",
       "      <th>0</th>\n",
       "      <td>1-Naphthol</td>\n",
       "      <td>Apple Juice</td>\n",
       "      <td>379</td>\n",
       "      <td>0</td>\n",
       "      <td></td>\n",
       "      <td></td>\n",
       "      <td></td>\n",
       "      <td>0.015</td>\n",
       "      <td>M</td>\n",
       "      <td>12</td>\n",
       "    </tr>\n",
       "    <tr>\n",
       "      <th>1</th>\n",
       "      <td>1-Naphthol</td>\n",
       "      <td>Baby Food - Peas</td>\n",
       "      <td>378</td>\n",
       "      <td>0</td>\n",
       "      <td></td>\n",
       "      <td></td>\n",
       "      <td></td>\n",
       "      <td>0.01</td>\n",
       "      <td>M</td>\n",
       "      <td>10</td>\n",
       "    </tr>\n",
       "    <tr>\n",
       "      <th>2</th>\n",
       "      <td>1-Naphthol</td>\n",
       "      <td>Carrots</td>\n",
       "      <td>712</td>\n",
       "      <td>0</td>\n",
       "      <td></td>\n",
       "      <td></td>\n",
       "      <td></td>\n",
       "      <td>0.017 - 0.057</td>\n",
       "      <td>M</td>\n",
       "      <td>2.0</td>\n",
       "    </tr>\n",
       "    <tr>\n",
       "      <th>3</th>\n",
       "      <td>1-Naphthol</td>\n",
       "      <td>Green Beans</td>\n",
       "      <td>347</td>\n",
       "      <td>0</td>\n",
       "      <td></td>\n",
       "      <td></td>\n",
       "      <td></td>\n",
       "      <td>0.06</td>\n",
       "      <td>M</td>\n",
       "      <td>10</td>\n",
       "    </tr>\n",
       "    <tr>\n",
       "      <th>4</th>\n",
       "      <td>1-Naphthol</td>\n",
       "      <td>Mushrooms</td>\n",
       "      <td>503</td>\n",
       "      <td>0</td>\n",
       "      <td></td>\n",
       "      <td></td>\n",
       "      <td></td>\n",
       "      <td>0.015</td>\n",
       "      <td>M</td>\n",
       "      <td>NT</td>\n",
       "    </tr>\n",
       "    <tr>\n",
       "      <th>5</th>\n",
       "      <td>1-Naphthol</td>\n",
       "      <td>Nectarines</td>\n",
       "      <td>543</td>\n",
       "      <td>4</td>\n",
       "      <td>0.7</td>\n",
       "      <td>0.025</td>\n",
       "      <td>2.0891</td>\n",
       "      <td>0.015</td>\n",
       "      <td>M</td>\n",
       "      <td>10</td>\n",
       "    </tr>\n",
       "    <tr>\n",
       "      <th>6</th>\n",
       "      <td>1-Naphthol</td>\n",
       "      <td>Summer Squash</td>\n",
       "      <td>346</td>\n",
       "      <td>0</td>\n",
       "      <td></td>\n",
       "      <td></td>\n",
       "      <td></td>\n",
       "      <td>0.02</td>\n",
       "      <td>M</td>\n",
       "      <td>3.0</td>\n",
       "    </tr>\n",
       "    <tr>\n",
       "      <th>7</th>\n",
       "      <td>1-Naphthol</td>\n",
       "      <td>Water, Finished</td>\n",
       "      <td>7</td>\n",
       "      <td>0</td>\n",
       "      <td></td>\n",
       "      <td></td>\n",
       "      <td></td>\n",
       "      <td>30</td>\n",
       "      <td>T</td>\n",
       "      <td>NaN</td>\n",
       "    </tr>\n",
       "    <tr>\n",
       "      <th>8</th>\n",
       "      <td>1-Naphthol</td>\n",
       "      <td>Water, Groundwater</td>\n",
       "      <td>12</td>\n",
       "      <td>0</td>\n",
       "      <td></td>\n",
       "      <td></td>\n",
       "      <td></td>\n",
       "      <td>30</td>\n",
       "      <td>T</td>\n",
       "      <td>NaN</td>\n",
       "    </tr>\n",
       "    <tr>\n",
       "      <th>9</th>\n",
       "      <td>1-Naphthol</td>\n",
       "      <td>Water, Untreated</td>\n",
       "      <td>7</td>\n",
       "      <td>0</td>\n",
       "      <td></td>\n",
       "      <td></td>\n",
       "      <td></td>\n",
       "      <td>30</td>\n",
       "      <td>T</td>\n",
       "      <td>NaN</td>\n",
       "    </tr>\n",
       "    <tr>\n",
       "      <th>10</th>\n",
       "      <td>2,4,5-T</td>\n",
       "      <td>Water, Finished</td>\n",
       "      <td>50</td>\n",
       "      <td>0</td>\n",
       "      <td></td>\n",
       "      <td></td>\n",
       "      <td></td>\n",
       "      <td>0.84 - 15</td>\n",
       "      <td>T</td>\n",
       "      <td>NaN</td>\n",
       "    </tr>\n",
       "    <tr>\n",
       "      <th>11</th>\n",
       "      <td>2,4,5-T</td>\n",
       "      <td>Water, Groundwater</td>\n",
       "      <td>14</td>\n",
       "      <td>0</td>\n",
       "      <td></td>\n",
       "      <td></td>\n",
       "      <td></td>\n",
       "      <td>0.84 - 15</td>\n",
       "      <td>T</td>\n",
       "      <td>NaN</td>\n",
       "    </tr>\n",
       "    <tr>\n",
       "      <th>12</th>\n",
       "      <td>2,4,5-T</td>\n",
       "      <td>Water, Untreated</td>\n",
       "      <td>50</td>\n",
       "      <td>0</td>\n",
       "      <td></td>\n",
       "      <td></td>\n",
       "      <td></td>\n",
       "      <td>0.84 - 15</td>\n",
       "      <td>T</td>\n",
       "      <td>NaN</td>\n",
       "    </tr>\n",
       "    <tr>\n",
       "      <th>13</th>\n",
       "      <td>2,4,5-TP</td>\n",
       "      <td>Water, Finished</td>\n",
       "      <td>50</td>\n",
       "      <td>0</td>\n",
       "      <td></td>\n",
       "      <td></td>\n",
       "      <td></td>\n",
       "      <td>0.68 - 15</td>\n",
       "      <td>T</td>\n",
       "      <td>NaN</td>\n",
       "    </tr>\n",
       "    <tr>\n",
       "      <th>14</th>\n",
       "      <td>2,4,5-TP</td>\n",
       "      <td>Water, Groundwater</td>\n",
       "      <td>14</td>\n",
       "      <td>0</td>\n",
       "      <td></td>\n",
       "      <td></td>\n",
       "      <td></td>\n",
       "      <td>0.68 - 15</td>\n",
       "      <td>T</td>\n",
       "      <td>NaN</td>\n",
       "    </tr>\n",
       "    <tr>\n",
       "      <th>15</th>\n",
       "      <td>2,4,5-TP</td>\n",
       "      <td>Water, Untreated</td>\n",
       "      <td>50</td>\n",
       "      <td>0</td>\n",
       "      <td></td>\n",
       "      <td></td>\n",
       "      <td></td>\n",
       "      <td>0.68 - 15</td>\n",
       "      <td>T</td>\n",
       "      <td>NaN</td>\n",
       "    </tr>\n",
       "    <tr>\n",
       "      <th>16</th>\n",
       "      <td>2,4-D</td>\n",
       "      <td>Water, Finished</td>\n",
       "      <td>50</td>\n",
       "      <td>49</td>\n",
       "      <td>98</td>\n",
       "      <td>1.08</td>\n",
       "      <td>84</td>\n",
       "      <td>0.65 - 2.5</td>\n",
       "      <td>T</td>\n",
       "      <td>NaN</td>\n",
       "    </tr>\n",
       "    <tr>\n",
       "      <th>17</th>\n",
       "      <td>2,4-D</td>\n",
       "      <td>Water, Groundwater</td>\n",
       "      <td>14</td>\n",
       "      <td>2</td>\n",
       "      <td>14.3</td>\n",
       "      <td>4.2</td>\n",
       "      <td>9.5</td>\n",
       "      <td>0.65 - 2.5</td>\n",
       "      <td>T</td>\n",
       "      <td>NaN</td>\n",
       "    </tr>\n",
       "    <tr>\n",
       "      <th>18</th>\n",
       "      <td>2,4-D</td>\n",
       "      <td>Water, Untreated</td>\n",
       "      <td>50</td>\n",
       "      <td>49</td>\n",
       "      <td>98</td>\n",
       "      <td>1.08</td>\n",
       "      <td>99</td>\n",
       "      <td>0.65 - 2.5</td>\n",
       "      <td>T</td>\n",
       "      <td>NaN</td>\n",
       "    </tr>\n",
       "    <tr>\n",
       "      <th>19</th>\n",
       "      <td>2,4-DB</td>\n",
       "      <td>Water, Finished</td>\n",
       "      <td>50</td>\n",
       "      <td>0</td>\n",
       "      <td></td>\n",
       "      <td></td>\n",
       "      <td></td>\n",
       "      <td>6 - 39</td>\n",
       "      <td>T</td>\n",
       "      <td>NaN</td>\n",
       "    </tr>\n",
       "    <tr>\n",
       "      <th>20</th>\n",
       "      <td>2,4-DB</td>\n",
       "      <td>Water, Groundwater</td>\n",
       "      <td>14</td>\n",
       "      <td>0</td>\n",
       "      <td></td>\n",
       "      <td></td>\n",
       "      <td></td>\n",
       "      <td>6 - 39</td>\n",
       "      <td>T</td>\n",
       "      <td>NaN</td>\n",
       "    </tr>\n",
       "    <tr>\n",
       "      <th>21</th>\n",
       "      <td>2,4-DB</td>\n",
       "      <td>Water, Untreated</td>\n",
       "      <td>50</td>\n",
       "      <td>0</td>\n",
       "      <td></td>\n",
       "      <td></td>\n",
       "      <td></td>\n",
       "      <td>6 - 39</td>\n",
       "      <td>T</td>\n",
       "      <td>NaN</td>\n",
       "    </tr>\n",
       "    <tr>\n",
       "      <th>22</th>\n",
       "      <td>3-Hydroxycarbofuran</td>\n",
       "      <td>Apple Juice</td>\n",
       "      <td>379</td>\n",
       "      <td>0</td>\n",
       "      <td></td>\n",
       "      <td></td>\n",
       "      <td></td>\n",
       "      <td>0.003</td>\n",
       "      <td>M</td>\n",
       "      <td>NT</td>\n",
       "    </tr>\n",
       "    <tr>\n",
       "      <th>23</th>\n",
       "      <td>3-Hydroxycarbofuran</td>\n",
       "      <td>Baby Food - Applesauce</td>\n",
       "      <td>379</td>\n",
       "      <td>0</td>\n",
       "      <td></td>\n",
       "      <td></td>\n",
       "      <td></td>\n",
       "      <td>0.01</td>\n",
       "      <td>M</td>\n",
       "      <td>NT</td>\n",
       "    </tr>\n",
       "    <tr>\n",
       "      <th>24</th>\n",
       "      <td>3-Hydroxycarbofuran</td>\n",
       "      <td>Baby Food - Peas</td>\n",
       "      <td>378</td>\n",
       "      <td>0</td>\n",
       "      <td></td>\n",
       "      <td></td>\n",
       "      <td></td>\n",
       "      <td>0.01</td>\n",
       "      <td>M</td>\n",
       "      <td>NT</td>\n",
       "    </tr>\n",
       "    <tr>\n",
       "      <th>25</th>\n",
       "      <td>3-Hydroxycarbofuran</td>\n",
       "      <td>Bananas</td>\n",
       "      <td>708</td>\n",
       "      <td>0</td>\n",
       "      <td></td>\n",
       "      <td></td>\n",
       "      <td></td>\n",
       "      <td>0.002</td>\n",
       "      <td>M</td>\n",
       "      <td>0.1</td>\n",
       "    </tr>\n",
       "    <tr>\n",
       "      <th>26</th>\n",
       "      <td>3-Hydroxycarbofuran</td>\n",
       "      <td>Broccoli</td>\n",
       "      <td>708</td>\n",
       "      <td>1</td>\n",
       "      <td>0.1</td>\n",
       "      <td>0.017</td>\n",
       "      <td>0.017</td>\n",
       "      <td>0.01</td>\n",
       "      <td>M</td>\n",
       "      <td>NT</td>\n",
       "    </tr>\n",
       "    <tr>\n",
       "      <th>27</th>\n",
       "      <td>3-Hydroxycarbofuran</td>\n",
       "      <td>Butter</td>\n",
       "      <td>739</td>\n",
       "      <td>0</td>\n",
       "      <td></td>\n",
       "      <td></td>\n",
       "      <td></td>\n",
       "      <td>0.0048</td>\n",
       "      <td>M</td>\n",
       "      <td>NT</td>\n",
       "    </tr>\n",
       "    <tr>\n",
       "      <th>28</th>\n",
       "      <td>3-Hydroxycarbofuran</td>\n",
       "      <td>Carrots</td>\n",
       "      <td>712</td>\n",
       "      <td>0</td>\n",
       "      <td></td>\n",
       "      <td></td>\n",
       "      <td></td>\n",
       "      <td>0.03</td>\n",
       "      <td>M</td>\n",
       "      <td>NT</td>\n",
       "    </tr>\n",
       "    <tr>\n",
       "      <th>29</th>\n",
       "      <td>3-Hydroxycarbofuran</td>\n",
       "      <td>Cauliflower</td>\n",
       "      <td>532</td>\n",
       "      <td>0</td>\n",
       "      <td></td>\n",
       "      <td></td>\n",
       "      <td></td>\n",
       "      <td>0.0012 - 0.008</td>\n",
       "      <td>M</td>\n",
       "      <td>NT</td>\n",
       "    </tr>\n",
       "    <tr>\n",
       "      <th>...</th>\n",
       "      <td>...</td>\n",
       "      <td>...</td>\n",
       "      <td>...</td>\n",
       "      <td>...</td>\n",
       "      <td>...</td>\n",
       "      <td>...</td>\n",
       "      <td>...</td>\n",
       "      <td>...</td>\n",
       "      <td>...</td>\n",
       "      <td>...</td>\n",
       "    </tr>\n",
       "    <tr>\n",
       "      <th>5549</th>\n",
       "      <td>Uniconazole</td>\n",
       "      <td>Winter Squash</td>\n",
       "      <td>187</td>\n",
       "      <td>0</td>\n",
       "      <td></td>\n",
       "      <td></td>\n",
       "      <td></td>\n",
       "      <td>0.024</td>\n",
       "      <td>M</td>\n",
       "      <td>NT</td>\n",
       "    </tr>\n",
       "    <tr>\n",
       "      <th>5550</th>\n",
       "      <td>Vernolate</td>\n",
       "      <td>Baby Food - Applesauce</td>\n",
       "      <td>379</td>\n",
       "      <td>0</td>\n",
       "      <td></td>\n",
       "      <td></td>\n",
       "      <td></td>\n",
       "      <td>0.01</td>\n",
       "      <td>M</td>\n",
       "      <td>NT</td>\n",
       "    </tr>\n",
       "    <tr>\n",
       "      <th>5551</th>\n",
       "      <td>Vernolate</td>\n",
       "      <td>Broccoli</td>\n",
       "      <td>708</td>\n",
       "      <td>0</td>\n",
       "      <td></td>\n",
       "      <td></td>\n",
       "      <td></td>\n",
       "      <td>0.01</td>\n",
       "      <td>M</td>\n",
       "      <td>NT</td>\n",
       "    </tr>\n",
       "    <tr>\n",
       "      <th>5552</th>\n",
       "      <td>Vernolate</td>\n",
       "      <td>Peaches</td>\n",
       "      <td>220</td>\n",
       "      <td>0</td>\n",
       "      <td></td>\n",
       "      <td></td>\n",
       "      <td></td>\n",
       "      <td>0.01</td>\n",
       "      <td>M</td>\n",
       "      <td>NT</td>\n",
       "    </tr>\n",
       "    <tr>\n",
       "      <th>5553</th>\n",
       "      <td>Vinclozolin</td>\n",
       "      <td>Apple Juice</td>\n",
       "      <td>379</td>\n",
       "      <td>0</td>\n",
       "      <td></td>\n",
       "      <td></td>\n",
       "      <td></td>\n",
       "      <td>0.01</td>\n",
       "      <td>M</td>\n",
       "      <td>NT</td>\n",
       "    </tr>\n",
       "    <tr>\n",
       "      <th>5554</th>\n",
       "      <td>Vinclozolin</td>\n",
       "      <td>Baby Food - Applesauce</td>\n",
       "      <td>379</td>\n",
       "      <td>0</td>\n",
       "      <td></td>\n",
       "      <td></td>\n",
       "      <td></td>\n",
       "      <td>0.001</td>\n",
       "      <td>M</td>\n",
       "      <td>NT</td>\n",
       "    </tr>\n",
       "    <tr>\n",
       "      <th>5555</th>\n",
       "      <td>Vinclozolin</td>\n",
       "      <td>Bananas</td>\n",
       "      <td>708</td>\n",
       "      <td>0</td>\n",
       "      <td></td>\n",
       "      <td></td>\n",
       "      <td></td>\n",
       "      <td>0.01</td>\n",
       "      <td>M</td>\n",
       "      <td>NT</td>\n",
       "    </tr>\n",
       "    <tr>\n",
       "      <th>5556</th>\n",
       "      <td>Vinclozolin</td>\n",
       "      <td>Broccoli</td>\n",
       "      <td>707</td>\n",
       "      <td>0</td>\n",
       "      <td></td>\n",
       "      <td></td>\n",
       "      <td></td>\n",
       "      <td>0.005</td>\n",
       "      <td>M</td>\n",
       "      <td>NT</td>\n",
       "    </tr>\n",
       "    <tr>\n",
       "      <th>5557</th>\n",
       "      <td>Vinclozolin</td>\n",
       "      <td>Butter</td>\n",
       "      <td>756</td>\n",
       "      <td>0</td>\n",
       "      <td></td>\n",
       "      <td></td>\n",
       "      <td></td>\n",
       "      <td>0.0011</td>\n",
       "      <td>M</td>\n",
       "      <td>NT</td>\n",
       "    </tr>\n",
       "    <tr>\n",
       "      <th>5558</th>\n",
       "      <td>Vinclozolin</td>\n",
       "      <td>Carrots</td>\n",
       "      <td>712</td>\n",
       "      <td>0</td>\n",
       "      <td></td>\n",
       "      <td></td>\n",
       "      <td></td>\n",
       "      <td>0.002</td>\n",
       "      <td>M</td>\n",
       "      <td>NT</td>\n",
       "    </tr>\n",
       "    <tr>\n",
       "      <th>5559</th>\n",
       "      <td>Vinclozolin</td>\n",
       "      <td>Cauliflower</td>\n",
       "      <td>532</td>\n",
       "      <td>0</td>\n",
       "      <td></td>\n",
       "      <td></td>\n",
       "      <td></td>\n",
       "      <td>0.001</td>\n",
       "      <td>M</td>\n",
       "      <td>NT</td>\n",
       "    </tr>\n",
       "    <tr>\n",
       "      <th>5560</th>\n",
       "      <td>Vinclozolin</td>\n",
       "      <td>Celery</td>\n",
       "      <td>708</td>\n",
       "      <td>0</td>\n",
       "      <td></td>\n",
       "      <td></td>\n",
       "      <td></td>\n",
       "      <td>0.001 - 0.005</td>\n",
       "      <td>M</td>\n",
       "      <td>NT</td>\n",
       "    </tr>\n",
       "    <tr>\n",
       "      <th>5561</th>\n",
       "      <td>Vinclozolin</td>\n",
       "      <td>Fish, Salmon</td>\n",
       "      <td>352</td>\n",
       "      <td>0</td>\n",
       "      <td></td>\n",
       "      <td></td>\n",
       "      <td></td>\n",
       "      <td>0.01</td>\n",
       "      <td>M</td>\n",
       "      <td>NaN</td>\n",
       "    </tr>\n",
       "    <tr>\n",
       "      <th>5562</th>\n",
       "      <td>Vinclozolin</td>\n",
       "      <td>Grape Juice</td>\n",
       "      <td>176</td>\n",
       "      <td>0</td>\n",
       "      <td></td>\n",
       "      <td></td>\n",
       "      <td></td>\n",
       "      <td>0.01</td>\n",
       "      <td>M</td>\n",
       "      <td>6.0</td>\n",
       "    </tr>\n",
       "    <tr>\n",
       "      <th>5563</th>\n",
       "      <td>Vinclozolin</td>\n",
       "      <td>Infant Formula, Dairy-based</td>\n",
       "      <td>177</td>\n",
       "      <td>0</td>\n",
       "      <td></td>\n",
       "      <td></td>\n",
       "      <td></td>\n",
       "      <td>0.001</td>\n",
       "      <td>M</td>\n",
       "      <td>NT</td>\n",
       "    </tr>\n",
       "    <tr>\n",
       "      <th>5564</th>\n",
       "      <td>Vinclozolin</td>\n",
       "      <td>Infant Formula, Soy-based</td>\n",
       "      <td>179</td>\n",
       "      <td>0</td>\n",
       "      <td></td>\n",
       "      <td></td>\n",
       "      <td></td>\n",
       "      <td>0.005</td>\n",
       "      <td>M</td>\n",
       "      <td>NT</td>\n",
       "    </tr>\n",
       "    <tr>\n",
       "      <th>5565</th>\n",
       "      <td>Vinclozolin</td>\n",
       "      <td>Mushrooms</td>\n",
       "      <td>532</td>\n",
       "      <td>0</td>\n",
       "      <td></td>\n",
       "      <td></td>\n",
       "      <td></td>\n",
       "      <td>0.01</td>\n",
       "      <td>M</td>\n",
       "      <td>NT</td>\n",
       "    </tr>\n",
       "    <tr>\n",
       "      <th>5566</th>\n",
       "      <td>Vinclozolin</td>\n",
       "      <td>Peaches</td>\n",
       "      <td>285</td>\n",
       "      <td>0</td>\n",
       "      <td></td>\n",
       "      <td></td>\n",
       "      <td></td>\n",
       "      <td>0.005</td>\n",
       "      <td>M</td>\n",
       "      <td>NT</td>\n",
       "    </tr>\n",
       "    <tr>\n",
       "      <th>5567</th>\n",
       "      <td>Vinclozolin</td>\n",
       "      <td>Plums</td>\n",
       "      <td>507</td>\n",
       "      <td>0</td>\n",
       "      <td></td>\n",
       "      <td></td>\n",
       "      <td></td>\n",
       "      <td>0.005</td>\n",
       "      <td>M</td>\n",
       "      <td>NT</td>\n",
       "    </tr>\n",
       "    <tr>\n",
       "      <th>5568</th>\n",
       "      <td>Vinclozolin</td>\n",
       "      <td>Raspberries</td>\n",
       "      <td>652</td>\n",
       "      <td>0</td>\n",
       "      <td></td>\n",
       "      <td></td>\n",
       "      <td></td>\n",
       "      <td>0.005 - 0.01</td>\n",
       "      <td>M</td>\n",
       "      <td>NT</td>\n",
       "    </tr>\n",
       "    <tr>\n",
       "      <th>5569</th>\n",
       "      <td>Vinclozolin</td>\n",
       "      <td>Raspberries, Frozen</td>\n",
       "      <td>53</td>\n",
       "      <td>0</td>\n",
       "      <td></td>\n",
       "      <td></td>\n",
       "      <td></td>\n",
       "      <td>0.005 - 0.01</td>\n",
       "      <td>M</td>\n",
       "      <td>NT</td>\n",
       "    </tr>\n",
       "    <tr>\n",
       "      <th>5570</th>\n",
       "      <td>Vinclozolin</td>\n",
       "      <td>Summer Squash</td>\n",
       "      <td>363</td>\n",
       "      <td>0</td>\n",
       "      <td></td>\n",
       "      <td></td>\n",
       "      <td></td>\n",
       "      <td>0.005</td>\n",
       "      <td>M</td>\n",
       "      <td>NT</td>\n",
       "    </tr>\n",
       "    <tr>\n",
       "      <th>5571</th>\n",
       "      <td>Vinclozolin</td>\n",
       "      <td>Winter Squash</td>\n",
       "      <td>187</td>\n",
       "      <td>0</td>\n",
       "      <td></td>\n",
       "      <td></td>\n",
       "      <td></td>\n",
       "      <td>0.003</td>\n",
       "      <td>M</td>\n",
       "      <td>NT</td>\n",
       "    </tr>\n",
       "    <tr>\n",
       "      <th>5572</th>\n",
       "      <td>Zoxamide</td>\n",
       "      <td>Celery</td>\n",
       "      <td>346</td>\n",
       "      <td>0</td>\n",
       "      <td></td>\n",
       "      <td></td>\n",
       "      <td></td>\n",
       "      <td>0.0025</td>\n",
       "      <td>M</td>\n",
       "      <td>NT</td>\n",
       "    </tr>\n",
       "    <tr>\n",
       "      <th>5573</th>\n",
       "      <td>Zoxamide</td>\n",
       "      <td>Green Beans</td>\n",
       "      <td>378</td>\n",
       "      <td>0</td>\n",
       "      <td></td>\n",
       "      <td></td>\n",
       "      <td></td>\n",
       "      <td>0.002</td>\n",
       "      <td>M</td>\n",
       "      <td>NT</td>\n",
       "    </tr>\n",
       "    <tr>\n",
       "      <th>5574</th>\n",
       "      <td>Zoxamide</td>\n",
       "      <td>Infant Formula, Soy-based</td>\n",
       "      <td>179</td>\n",
       "      <td>0</td>\n",
       "      <td></td>\n",
       "      <td></td>\n",
       "      <td></td>\n",
       "      <td>0.0025</td>\n",
       "      <td>M</td>\n",
       "      <td>NT</td>\n",
       "    </tr>\n",
       "    <tr>\n",
       "      <th>5575</th>\n",
       "      <td>Zoxamide</td>\n",
       "      <td>Plums</td>\n",
       "      <td>507</td>\n",
       "      <td>0</td>\n",
       "      <td></td>\n",
       "      <td></td>\n",
       "      <td></td>\n",
       "      <td>0.0025</td>\n",
       "      <td>M</td>\n",
       "      <td>NT</td>\n",
       "    </tr>\n",
       "    <tr>\n",
       "      <th>5576</th>\n",
       "      <td>Zoxamide</td>\n",
       "      <td>Raspberries</td>\n",
       "      <td>351</td>\n",
       "      <td>0</td>\n",
       "      <td></td>\n",
       "      <td></td>\n",
       "      <td></td>\n",
       "      <td>0.0025</td>\n",
       "      <td>M</td>\n",
       "      <td>NT</td>\n",
       "    </tr>\n",
       "    <tr>\n",
       "      <th>5577</th>\n",
       "      <td>Zoxamide</td>\n",
       "      <td>Raspberries, Frozen</td>\n",
       "      <td>10</td>\n",
       "      <td>0</td>\n",
       "      <td></td>\n",
       "      <td></td>\n",
       "      <td></td>\n",
       "      <td>0.0025</td>\n",
       "      <td>M</td>\n",
       "      <td>NT</td>\n",
       "    </tr>\n",
       "    <tr>\n",
       "      <th>5578</th>\n",
       "      <td>Zoxamide</td>\n",
       "      <td>Summer Squash</td>\n",
       "      <td>709</td>\n",
       "      <td>0</td>\n",
       "      <td></td>\n",
       "      <td></td>\n",
       "      <td></td>\n",
       "      <td>0.0025 - 0.01</td>\n",
       "      <td>M</td>\n",
       "      <td>1.0</td>\n",
       "    </tr>\n",
       "  </tbody>\n",
       "</table>\n",
       "<p>5579 rows × 10 columns</p>\n",
       "</div>"
      ],
      "text/plain": [
       "           Pesticide Name                    Commodity  \\\n",
       "0              1-Naphthol                  Apple Juice   \n",
       "1              1-Naphthol             Baby Food - Peas   \n",
       "2              1-Naphthol                      Carrots   \n",
       "3              1-Naphthol                  Green Beans   \n",
       "4              1-Naphthol                    Mushrooms   \n",
       "5              1-Naphthol                   Nectarines   \n",
       "6              1-Naphthol                Summer Squash   \n",
       "7              1-Naphthol              Water, Finished   \n",
       "8              1-Naphthol           Water, Groundwater   \n",
       "9              1-Naphthol             Water, Untreated   \n",
       "10                2,4,5-T              Water, Finished   \n",
       "11                2,4,5-T           Water, Groundwater   \n",
       "12                2,4,5-T             Water, Untreated   \n",
       "13               2,4,5-TP              Water, Finished   \n",
       "14               2,4,5-TP           Water, Groundwater   \n",
       "15               2,4,5-TP             Water, Untreated   \n",
       "16                  2,4-D              Water, Finished   \n",
       "17                  2,4-D           Water, Groundwater   \n",
       "18                  2,4-D             Water, Untreated   \n",
       "19                 2,4-DB              Water, Finished   \n",
       "20                 2,4-DB           Water, Groundwater   \n",
       "21                 2,4-DB             Water, Untreated   \n",
       "22    3-Hydroxycarbofuran                  Apple Juice   \n",
       "23    3-Hydroxycarbofuran       Baby Food - Applesauce   \n",
       "24    3-Hydroxycarbofuran             Baby Food - Peas   \n",
       "25    3-Hydroxycarbofuran                      Bananas   \n",
       "26    3-Hydroxycarbofuran                     Broccoli   \n",
       "27    3-Hydroxycarbofuran                       Butter   \n",
       "28    3-Hydroxycarbofuran                      Carrots   \n",
       "29    3-Hydroxycarbofuran                  Cauliflower   \n",
       "...                   ...                          ...   \n",
       "5549          Uniconazole                Winter Squash   \n",
       "5550            Vernolate       Baby Food - Applesauce   \n",
       "5551            Vernolate                     Broccoli   \n",
       "5552            Vernolate                      Peaches   \n",
       "5553          Vinclozolin                  Apple Juice   \n",
       "5554          Vinclozolin       Baby Food - Applesauce   \n",
       "5555          Vinclozolin                      Bananas   \n",
       "5556          Vinclozolin                     Broccoli   \n",
       "5557          Vinclozolin                       Butter   \n",
       "5558          Vinclozolin                      Carrots   \n",
       "5559          Vinclozolin                  Cauliflower   \n",
       "5560          Vinclozolin                       Celery   \n",
       "5561          Vinclozolin                 Fish, Salmon   \n",
       "5562          Vinclozolin                  Grape Juice   \n",
       "5563          Vinclozolin  Infant Formula, Dairy-based   \n",
       "5564          Vinclozolin    Infant Formula, Soy-based   \n",
       "5565          Vinclozolin                    Mushrooms   \n",
       "5566          Vinclozolin                      Peaches   \n",
       "5567          Vinclozolin                        Plums   \n",
       "5568          Vinclozolin                  Raspberries   \n",
       "5569          Vinclozolin          Raspberries, Frozen   \n",
       "5570          Vinclozolin                Summer Squash   \n",
       "5571          Vinclozolin                Winter Squash   \n",
       "5572             Zoxamide                       Celery   \n",
       "5573             Zoxamide                  Green Beans   \n",
       "5574             Zoxamide    Infant Formula, Soy-based   \n",
       "5575             Zoxamide                        Plums   \n",
       "5576             Zoxamide                  Raspberries   \n",
       "5577             Zoxamide          Raspberries, Frozen   \n",
       "5578             Zoxamide                Summer Squash   \n",
       "\n",
       "      Number of Samples Analyzed  Number of Samples with Detects  \\\n",
       "0                            379                               0   \n",
       "1                            378                               0   \n",
       "2                            712                               0   \n",
       "3                            347                               0   \n",
       "4                            503                               0   \n",
       "5                            543                               4   \n",
       "6                            346                               0   \n",
       "7                              7                               0   \n",
       "8                             12                               0   \n",
       "9                              7                               0   \n",
       "10                            50                               0   \n",
       "11                            14                               0   \n",
       "12                            50                               0   \n",
       "13                            50                               0   \n",
       "14                            14                               0   \n",
       "15                            50                               0   \n",
       "16                            50                              49   \n",
       "17                            14                               2   \n",
       "18                            50                              49   \n",
       "19                            50                               0   \n",
       "20                            14                               0   \n",
       "21                            50                               0   \n",
       "22                           379                               0   \n",
       "23                           379                               0   \n",
       "24                           378                               0   \n",
       "25                           708                               0   \n",
       "26                           708                               1   \n",
       "27                           739                               0   \n",
       "28                           712                               0   \n",
       "29                           532                               0   \n",
       "...                          ...                             ...   \n",
       "5549                         187                               0   \n",
       "5550                         379                               0   \n",
       "5551                         708                               0   \n",
       "5552                         220                               0   \n",
       "5553                         379                               0   \n",
       "5554                         379                               0   \n",
       "5555                         708                               0   \n",
       "5556                         707                               0   \n",
       "5557                         756                               0   \n",
       "5558                         712                               0   \n",
       "5559                         532                               0   \n",
       "5560                         708                               0   \n",
       "5561                         352                               0   \n",
       "5562                         176                               0   \n",
       "5563                         177                               0   \n",
       "5564                         179                               0   \n",
       "5565                         532                               0   \n",
       "5566                         285                               0   \n",
       "5567                         507                               0   \n",
       "5568                         652                               0   \n",
       "5569                          53                               0   \n",
       "5570                         363                               0   \n",
       "5571                         187                               0   \n",
       "5572                         346                               0   \n",
       "5573                         378                               0   \n",
       "5574                         179                               0   \n",
       "5575                         507                               0   \n",
       "5576                         351                               0   \n",
       "5577                          10                               0   \n",
       "5578                         709                               0   \n",
       "\n",
       "     Pct of Samples with Detects Min Detect Max Detect       LOD Range pp_  \\\n",
       "0                                                                0.015   M   \n",
       "1                                                                 0.01   M   \n",
       "2                                                        0.017 - 0.057   M   \n",
       "3                                                                 0.06   M   \n",
       "4                                                                0.015   M   \n",
       "5                            0.7      0.025     2.0891           0.015   M   \n",
       "6                                                                 0.02   M   \n",
       "7                                                                   30   T   \n",
       "8                                                                   30   T   \n",
       "9                                                                   30   T   \n",
       "10                                                           0.84 - 15   T   \n",
       "11                                                           0.84 - 15   T   \n",
       "12                                                           0.84 - 15   T   \n",
       "13                                                           0.68 - 15   T   \n",
       "14                                                           0.68 - 15   T   \n",
       "15                                                           0.68 - 15   T   \n",
       "16                            98       1.08         84      0.65 - 2.5   T   \n",
       "17                          14.3        4.2        9.5      0.65 - 2.5   T   \n",
       "18                            98       1.08         99      0.65 - 2.5   T   \n",
       "19                                                              6 - 39   T   \n",
       "20                                                              6 - 39   T   \n",
       "21                                                              6 - 39   T   \n",
       "22                                                               0.003   M   \n",
       "23                                                                0.01   M   \n",
       "24                                                                0.01   M   \n",
       "25                                                               0.002   M   \n",
       "26                           0.1      0.017      0.017            0.01   M   \n",
       "27                                                              0.0048   M   \n",
       "28                                                                0.03   M   \n",
       "29                                                      0.0012 - 0.008   M   \n",
       "...                          ...        ...        ...             ...  ..   \n",
       "5549                                                             0.024   M   \n",
       "5550                                                              0.01   M   \n",
       "5551                                                              0.01   M   \n",
       "5552                                                              0.01   M   \n",
       "5553                                                              0.01   M   \n",
       "5554                                                             0.001   M   \n",
       "5555                                                              0.01   M   \n",
       "5556                                                             0.005   M   \n",
       "5557                                                            0.0011   M   \n",
       "5558                                                             0.002   M   \n",
       "5559                                                             0.001   M   \n",
       "5560                                                     0.001 - 0.005   M   \n",
       "5561                                                              0.01   M   \n",
       "5562                                                              0.01   M   \n",
       "5563                                                             0.001   M   \n",
       "5564                                                             0.005   M   \n",
       "5565                                                              0.01   M   \n",
       "5566                                                             0.005   M   \n",
       "5567                                                             0.005   M   \n",
       "5568                                                      0.005 - 0.01   M   \n",
       "5569                                                      0.005 - 0.01   M   \n",
       "5570                                                             0.005   M   \n",
       "5571                                                             0.003   M   \n",
       "5572                                                            0.0025   M   \n",
       "5573                                                             0.002   M   \n",
       "5574                                                            0.0025   M   \n",
       "5575                                                            0.0025   M   \n",
       "5576                                                            0.0025   M   \n",
       "5577                                                            0.0025   M   \n",
       "5578                                                     0.0025 - 0.01   M   \n",
       "\n",
       "     EPA Tolerance (ppm)  \n",
       "0                     12  \n",
       "1                     10  \n",
       "2                    2.0  \n",
       "3                     10  \n",
       "4                     NT  \n",
       "5                     10  \n",
       "6                    3.0  \n",
       "7                    NaN  \n",
       "8                    NaN  \n",
       "9                    NaN  \n",
       "10                   NaN  \n",
       "11                   NaN  \n",
       "12                   NaN  \n",
       "13                   NaN  \n",
       "14                   NaN  \n",
       "15                   NaN  \n",
       "16                   NaN  \n",
       "17                   NaN  \n",
       "18                   NaN  \n",
       "19                   NaN  \n",
       "20                   NaN  \n",
       "21                   NaN  \n",
       "22                    NT  \n",
       "23                    NT  \n",
       "24                    NT  \n",
       "25                   0.1  \n",
       "26                    NT  \n",
       "27                    NT  \n",
       "28                    NT  \n",
       "29                    NT  \n",
       "...                  ...  \n",
       "5549                  NT  \n",
       "5550                  NT  \n",
       "5551                  NT  \n",
       "5552                  NT  \n",
       "5553                  NT  \n",
       "5554                  NT  \n",
       "5555                  NT  \n",
       "5556                  NT  \n",
       "5557                  NT  \n",
       "5558                  NT  \n",
       "5559                  NT  \n",
       "5560                  NT  \n",
       "5561                 NaN  \n",
       "5562                 6.0  \n",
       "5563                  NT  \n",
       "5564                  NT  \n",
       "5565                  NT  \n",
       "5566                  NT  \n",
       "5567                  NT  \n",
       "5568                  NT  \n",
       "5569                  NT  \n",
       "5570                  NT  \n",
       "5571                  NT  \n",
       "5572                  NT  \n",
       "5573                  NT  \n",
       "5574                  NT  \n",
       "5575                  NT  \n",
       "5576                  NT  \n",
       "5577                  NT  \n",
       "5578                 1.0  \n",
       "\n",
       "[5579 rows x 10 columns]"
      ]
     },
     "execution_count": 86,
     "metadata": {},
     "output_type": "execute_result"
    }
   ],
   "source": [
    "dfPesticide2013 = pd.read_csv(os.path.join('Data', '3', 'Pesticide', 'SummaryOfFindings2013.csv'))\n",
    "dfPesticide2014 = pd.read_csv(os.path.join('Data', '3', 'Pesticide', 'SummaryOfFindings2014.csv'))\n",
    "dfPesticide2015 = pd.read_csv(os.path.join('Data', '3', 'Pesticide', 'SummaryOfFindings2015.csv'))\n",
    "dfPesticide2016 = pd.read_csv(os.path.join('Data', '3', 'Pesticide', 'SummaryOfFindings2016.csv'))\n",
    "dfPesticide2017 = pd.read_csv(os.path.join('Data', '3', 'Pesticide', 'SummaryOfFindings2017.csv'))\n",
    "dfPesticide2013"
   ]
  },
  {
   "cell_type": "code",
   "execution_count": 87,
   "metadata": {},
   "outputs": [],
   "source": [
    "pesticideNames = []\n",
    "commodity = []\n",
    "numDefects = []\n",
    "allThree2013 = []\n",
    "allThree2014 = []\n",
    "allThree2015 = []\n",
    "allThree2016 = []\n",
    "allThree2017 = []\n",
    "\n",
    "pesticideNames.append(dfPesticide2013['Pesticide Name'].values)\n",
    "pesticideNames.append(dfPesticide2014['Pesticide Name'].values)\n",
    "pesticideNames.append(dfPesticide2015['Pesticide Name'].values)\n",
    "pesticideNames.append(dfPesticide2016['Pesticide Name'].values)\n",
    "pesticideNames.append(dfPesticide2017['Pesticide Name'].values)\n",
    "\n",
    "commodity.append(dfPesticide2013['Commodity'].values)\n",
    "commodity.append(dfPesticide2014['Commodity'].values)\n",
    "commodity.append(dfPesticide2015['Commodity'].values)\n",
    "commodity.append(dfPesticide2016['Commodity'].values)\n",
    "commodity.append(dfPesticide2017['Commodity'].values)\n",
    "\n",
    "numDefects.append(dfPesticide2013['Number of Samples with Detects'].values)\n",
    "numDefects.append(dfPesticide2014['Number of Samples with Detects'].values)\n",
    "numDefects.append(dfPesticide2015['Number of Samples with Detects'].values)\n",
    "numDefects.append(dfPesticide2016['Number of Samples with Detects'].values)\n",
    "numDefects.append(dfPesticide2017['Number of Samples with Detects'].values)\n",
    "\n",
    "# allThree2013.append((dfPesticide2013['Pesticide Name'].values, dfPesticide2013['Commodity'].values, dfPesticide2013['Number of Samples with Detects'].values))\n",
    "# allThree2014.append((dfPesticide2014['Pesticide Name'].values, dfPesticide2014['Commodity'].values, dfPesticide2014['Number of Samples with Detects'].values))\n",
    "# allThree2015.append((dfPesticide2015['Pesticide Name'].values, dfPesticide2015['Commodity'].values, dfPesticide2015['Number of Samples with Detects'].values))\n",
    "# allThree2016.append((dfPesticide2016['Pesticide Name'].values, dfPesticide2016['Commodity'].values, dfPesticide2016['Number of Samples with Detects'].values))\n",
    "# allThree2017.append((dfPesticide2017['Pesticide Name'].values, dfPesticide2017['Commodity'].values, dfPesticide2017['Number of Samples with Detects'].values))"
   ]
  },
  {
   "cell_type": "code",
   "execution_count": null,
   "metadata": {},
   "outputs": [],
   "source": [
    "# Find the Pesticide with the most detects (all years/for each year) -> do all years first (bar graph)\n",
    "\n",
    "# Find the commodity with the most detects (all years/ for each year)\n",
    "\n",
    "count = 0\n",
    "yearNum = 2012\n",
    "allThree = []\n",
    "\n",
    "for year in pesticideNames:\n",
    "    yearNum += 1\n",
    "    for index, name in enumerate(year):\n",
    "        allThree.append((name, commodity[count][index], float(numDefects[count][index]), str(yearNum)))\n",
    "    count += 1\n",
    "# for year in pesticideNames:\n",
    "#     allThree.append((year, commodity[count], numDefects[count]))\n",
    "#     count += 1\n",
    "allThree\n",
    "        \n",
    "# allThree2013.append()\n",
    "# allThree2014.append()\n",
    "# allThree2015.append()\n",
    "# allThree2016.append()\n",
    "# allThree2017.append()\n",
    "\n",
    "# def sortByDefects(val): \n",
    "#     return val[2]  \n",
    "\n",
    "# allThreeSorted = allThree.sort(key=lambda tup:tup[2])  \n",
    "\n",
    "allThree.sort(key=lambda tup:tup[2], reverse = True)  \n",
    "print(allThree)\n",
    "\n",
    "top10Pesticides = {}\n",
    "top10Crops = {}\n",
    "top10PesticidesArr = []\n",
    "top10CropsArr = []\n",
    "\n",
    "# DO FOR EVERY YEAR AS WELL!!! ->>> Can also sum up over all years!\n",
    "\n",
    "for tup in allThree:\n",
    "    if tup[0] not in top10Pesticides:\n",
    "        top10Pesticides[tup[0]] = tup\n",
    "        top10PesticidesArr.append(tup)\n",
    "    if len(top10Pesticides) == 10:\n",
    "        break\n",
    "        \n",
    "for tup in allThree:\n",
    "    if tup[1] not in top10Crops:\n",
    "        top10Crops[tup[1]] = tup\n",
    "        top10CropsArr.append(tup)\n",
    "    if len(top10Crops) == 10:\n",
    "        break"
   ]
  },
  {
   "cell_type": "code",
   "execution_count": 89,
   "metadata": {},
   "outputs": [
    {
     "data": {
      "text/plain": [
       "{'Chlorpropham': ('Chlorpropham', 'Potatoes', 705.0, '2016'),\n",
       " 'Imazalil': ('Imazalil', 'Oranges', 591.0, '2016'),\n",
       " 'Diphenylamine (DPA)': ('Diphenylamine (DPA)', 'Apples', 582.0, '2015'),\n",
       " 'Thiabendazole': ('Thiabendazole', 'Oranges', 536.0, '2015'),\n",
       " \"DDE p,p'\": (\"DDE p,p'\", 'Butter', 503.0, '2013'),\n",
       " 'Permethrin trans': ('Permethrin trans', 'Spinach', 503.0, '2015'),\n",
       " 'Permethrin cis': ('Permethrin cis', 'Spinach', 500.0, '2015'),\n",
       " 'Mandipropamid': ('Mandipropamid', 'Spinach', 482.0, '2015'),\n",
       " 'Fludioxonil': ('Fludioxonil', 'Peaches', 453.0, '2014'),\n",
       " 'Boscalid': ('Boscalid', 'Grapes', 450.0, '2015')}"
      ]
     },
     "execution_count": 89,
     "metadata": {},
     "output_type": "execute_result"
    }
   ],
   "source": [
    "top10Pesticides"
   ]
  },
  {
   "cell_type": "code",
   "execution_count": 90,
   "metadata": {},
   "outputs": [
    {
     "data": {
      "text/plain": [
       "{'Potatoes': ('Chlorpropham', 'Potatoes', 705.0, '2016'),\n",
       " 'Oranges': ('Imazalil', 'Oranges', 591.0, '2016'),\n",
       " 'Apples': ('Diphenylamine (DPA)', 'Apples', 582.0, '2015'),\n",
       " 'Grapefruit': ('Imazalil', 'Grapefruit', 562.0, '2016'),\n",
       " 'Butter': (\"DDE p,p'\", 'Butter', 503.0, '2013'),\n",
       " 'Spinach': ('Permethrin trans', 'Spinach', 503.0, '2015'),\n",
       " 'Peaches': ('Fludioxonil', 'Peaches', 453.0, '2014'),\n",
       " 'Grapes': ('Boscalid', 'Grapes', 450.0, '2015'),\n",
       " 'Apple Sauce': ('Acetamiprid', 'Apple Sauce', 440.0, '2017'),\n",
       " 'Nectarines': ('Fludioxonil', 'Nectarines', 439.0, '2014')}"
      ]
     },
     "execution_count": 90,
     "metadata": {},
     "output_type": "execute_result"
    }
   ],
   "source": [
    "top10Crops"
   ]
  },
  {
   "cell_type": "code",
   "execution_count": 91,
   "metadata": {},
   "outputs": [],
   "source": [
    "# data2Perc = {#'Produce Item' : subTitles2Perc,\n",
    "#         'Price Chopper' : priceChopperPerc,\n",
    "#         'Safeway' : safewayPerc,\n",
    "#         'Walmart' : walmartPerc,\n",
    "#         'Whole Foods' : wholeFoodsPerc}\n",
    "\n",
    "pName = []\n",
    "cName = []\n",
    "pNumDet = []\n",
    "cNumDet = []\n",
    "\n",
    "for i in top10PesticidesArr:\n",
    "    pName.append(i[0]+\", \"+i[3])\n",
    "    pNumDet.append(i[2])\n",
    "    \n",
    "for i in top10CropsArr:\n",
    "    cName.append(i[1]+\", \"+i[3])\n",
    "    cNumDet.append(i[2])\n",
    "\n",
    "pes = {'Number of Positive Detects' : pNumDet}\n",
    "\n",
    "crop = {'Number of Positive Detects' : cNumDet}\n",
    "\n",
    "\n",
    "df1 = pd.DataFrame(pes, index = pName) # Fix these so that the numeric data and title data are separate!\n",
    "# df1.set_index('Produce Item')\n",
    "df2 = pd.DataFrame(crop, index = cName)"
   ]
  },
  {
   "cell_type": "markdown",
   "metadata": {},
   "source": [
    "#### Data Visualization"
   ]
  },
  {
   "cell_type": "code",
   "execution_count": 291,
   "metadata": {},
   "outputs": [
    {
     "data": {
      "text/plain": [
       "Text(0.5, 1.0, 'Highest Number of Positive Detects by Pesticides for Individual Year: 2013-2017')"
      ]
     },
     "execution_count": 291,
     "metadata": {},
     "output_type": "execute_result"
    },
    {
     "data": {
      "image/png": "[encoded data removed]",
      "text/plain": [
       "<Figure size 1440x720 with 1 Axes>"
      ]
     },
     "metadata": {
      "needs_background": "light"
     },
     "output_type": "display_data"
    }
   ],
   "source": [
    "fig, ax = plt.subplots()\n",
    "# df = pd.DataFrame({'A':26, 'B':20}, index=['N'])\n",
    "df1.plot(kind='bar', ax=ax, figsize=(20, 10), width=0.85, zorder=3) \n",
    "ax.set_xlabel(\"Pesticides, Years\", fontname='Comic Sans MS', fontsize=15)\n",
    "ax.set_ylabel(\"Number of Positive Detects\", fontname='Comic Sans MS', fontsize=15)\n",
    "ax.grid(alpha = 0.25, color = 'black', zorder = 0)\n",
    "ax.xaxis.grid(False)\n",
    "plt.title('Highest Number of Positive Detects by Pesticides for Individual Year: 2013-2017', fontname='Comic Sans MS', fontsize=20)"
   ]
  },
  {
   "cell_type": "code",
   "execution_count": 292,
   "metadata": {},
   "outputs": [
    {
     "data": {
      "text/plain": [
       "Text(0.5, 1.0, 'Highest Number of Positive Detects by Crop for Individual Year: 2013-2017')"
      ]
     },
     "execution_count": 292,
     "metadata": {},
     "output_type": "execute_result"
    },
    {
     "data": {
      "image/png": "[encoded data removed]",
      "text/plain": [
       "<Figure size 1440x720 with 1 Axes>"
      ]
     },
     "metadata": {
      "needs_background": "light"
     },
     "output_type": "display_data"
    }
   ],
   "source": [
    "fig, ax = plt.subplots()\n",
    "# df = pd.DataFrame({'A':26, 'B':20}, index=['N'])\n",
    "df2.plot(kind='bar', ax=ax, figsize=(20, 10), width=0.85, zorder=3) \n",
    "ax.set_xlabel(\"Crops, Years\", fontname='Comic Sans MS', fontsize=15)\n",
    "ax.set_ylabel(\"Number of Positive Detects\", fontname='Comic Sans MS', fontsize=15)\n",
    "ax.grid(alpha = 0.25, color = 'black', zorder = 0)\n",
    "ax.xaxis.grid(False)\n",
    "plt.title('Highest Number of Positive Detects by Crop for Individual Year: 2013-2017', fontname='Comic Sans MS', fontsize=20)"
   ]
  },
  {
   "cell_type": "code",
   "execution_count": null,
   "metadata": {},
   "outputs": [],
   "source": [
    "# More things to graph:\n",
    "#\n",
    "# - Most prolific crops for detects (sum all years)\n",
    "# - Most prolific pesticides for detects (sum all years)\n",
    "#"
   ]
  },
  {
   "cell_type": "markdown",
   "metadata": {},
   "source": [
    "#### Data Analysis"
   ]
  },
  {
   "cell_type": "code",
   "execution_count": null,
   "metadata": {},
   "outputs": [],
   "source": []
  },
  {
   "cell_type": "markdown",
   "metadata": {},
   "source": [
    "# COST"
   ]
  },
  {
   "cell_type": "markdown",
   "metadata": {},
   "source": [
    "## 6. How do the prices for organic and conventional foods compare in the U.S.?"
   ]
  },
  {
   "cell_type": "markdown",
   "metadata": {},
   "source": [
    "Another very important factor to consider when choosing to buy conventional food or organic food items is their respective prices. Often, organic food prices can be much less affordable than conventional, but this is not true for every food item out there. Additionally, prices can vary depending on the seller of the food items. In this section, we dive into the prices for specific produce at 8 different U.S. retail stores to examine this issue further. Additionally, we highlight some of the price trends for organic and conventional produce over time to see if organic food has become more affordable. "
   ]
  },
  {
   "cell_type": "markdown",
   "metadata": {},
   "source": [
    "### 6.1 - Price of Organic v.s. Conventional Produce from Sellers in 2015"
   ]
  },
  {
   "cell_type": "markdown",
   "metadata": {},
   "source": [
    "We first examine the prices of oranic and conventional produce for 8 different U.S. retailers from 2015."
   ]
  },
  {
   "cell_type": "markdown",
   "metadata": {},
   "source": [
    "#### Data Wrangling"
   ]
  },
  {
   "cell_type": "markdown",
   "metadata": {},
   "source": [
    "We start by creating a path to the excel sheet (converted from PDF and cleaned for misaligned rows during conversion). Then, we open am xlrs workbook for the file and access the first sheet. "
   ]
  },
  {
   "cell_type": "code",
   "execution_count": 102,
   "metadata": {},
   "outputs": [
    {
     "name": "stderr",
     "output_type": "stream",
     "text": [
      "C:\\ANACONDA\\lib\\site-packages\\xlrd\\xlsx.py:266: PendingDeprecationWarning: This method will be removed in future versions.  Use 'tree.iter()' or 'list(tree.iter())' instead.\n",
      "C:\\ANACONDA\\lib\\site-packages\\xlrd\\xlsx.py:312: PendingDeprecationWarning: This method will be removed in future versions.  Use 'tree.iter()' or 'list(tree.iter())' instead.\n",
      "C:\\ANACONDA\\lib\\site-packages\\xlrd\\xlsx.py:266: PendingDeprecationWarning: This method will be removed in future versions.  Use 'tree.iter()' or 'list(tree.iter())' instead.\n"
     ]
    }
   ],
   "source": [
    "# Imports the xlsx file and verifies it is the correct data with title and number of sheets\n",
    "path_to_milk_data = os.path.join('Data', '6', 'PricesConsumer', 'Cost of Organic Food - Consumer Reports.xlsx')\n",
    "\n",
    "workbook = xlrd.open_workbook(path_to_milk_data)\n",
    "sheet = workbook.sheets()[0]"
   ]
  },
  {
   "cell_type": "markdown",
   "metadata": {},
   "source": [
    "We now load on in the row values from the sheet into an array. We have to merge two arrays here in order to handle dealing with the unnecessary data from rows 7-11."
   ]
  },
  {
   "cell_type": "code",
   "execution_count": 262,
   "metadata": {},
   "outputs": [],
   "source": [
    "# An array or arrays that hold the strings for each value in rows 6 to 114\n",
    "data_rowsA = [sheet.row_values(r) for r in range(4, 6)]\n",
    "data_rowsB = [sheet.row_values(r) for r in range(11, 132)]\n",
    "for r in data_rowsB:\n",
    "    data_rowsA.append(r)\n",
    "data_rows = data_rowsA"
   ]
  },
  {
   "cell_type": "markdown",
   "metadata": {},
   "source": [
    "Next, we initialize necessary arrays for storing the xlrs data before parsing further into arrays that will be used for graphing. We also clean the rows of empty characters."
   ]
  },
  {
   "cell_type": "code",
   "execution_count": 263,
   "metadata": {},
   "outputs": [],
   "source": [
    "cleaned_rows = []\n",
    "titles1 = []\n",
    "titles1.append('Apples (lb.)')\n",
    "titles2 = []\n",
    "titles2.append('Apples (lb.)')\n",
    "tableData1 = []\n",
    "tableData2 = []\n",
    "avg1 = data_rows[60]\n",
    "for r in avg1:\n",
    "    if r == '':\n",
    "        avg1.remove(r)\n",
    "        \n",
    "        avg2 = data_rows[121]\n",
    "for r in avg2:\n",
    "    if r == '':\n",
    "        avg2.remove(r)"
   ]
  },
  {
   "cell_type": "markdown",
   "metadata": {},
   "source": [
    "Now, the data for each table is wrangled. We clean the data via replacing certain string characters with empty strings and converting some values to look like decimals rather than strings to represent numbers. We do all of this preprocessing to ensure that all the values will be able to be converting to floats later for graphing them."
   ]
  },
  {
   "cell_type": "code",
   "execution_count": 264,
   "metadata": {},
   "outputs": [],
   "source": [
    "counter = 0\n",
    "for row in data_rows[1:60]:\n",
    "    new_row = []\n",
    "    for item in row:\n",
    "        if item == '':\n",
    "            continue\n",
    "        if type(item) == str:\n",
    "            item = item.replace('$', '').replace('/lb.', '')\n",
    "#             print('$/lb. : '+item)\n",
    "            if ' cents' in item:\n",
    "#                 item = item.replace(' ', '')\n",
    "                item = '0.'+item[0]+item[1]\n",
    "                item = float(item)\n",
    "#         print(item)\n",
    "        new_row.append(item)\n",
    "#     cleaned_rows.append(new_row)\n",
    "    tableData1.append(new_row)\n",
    "    \n",
    "for row in data_rows[62:121]:\n",
    "    new_row = []\n",
    "    for item in row:\n",
    "        if item == '':\n",
    "            continue\n",
    "        if type(item) == str:\n",
    "            item = item.replace('$', '').replace('/lb.', '')\n",
    "#             print('$/lb. : '+item)\n",
    "            if ' cents' in item:\n",
    "#                 item = item.replace(' ', '')\n",
    "                item = '0.'+item[0]+item[1]\n",
    "                item = float(item)\n",
    "#         print(item)\n",
    "        new_row.append(item)\n",
    "#     cleaned_rows.append(new_row)\n",
    "    tableData2.append(new_row)\n",
    "\n",
    "# print(titles1) \n",
    "# print(tableData1)\n",
    "# print(tableData2)"
   ]
  },
  {
   "cell_type": "markdown",
   "metadata": {},
   "source": [
    "The titles for each row are now stripped and out in separate arrays, as well as the data. Additionally, empty data rows are deleted form the array. "
   ]
  },
  {
   "cell_type": "code",
   "execution_count": 265,
   "metadata": {},
   "outputs": [],
   "source": [
    "avg1Title = avg1[0]\n",
    "avg2Title = avg2[0]\n",
    "\n",
    "avg1 = avg1[1:5]\n",
    "avg2 = avg2[1:5]\n",
    "\n",
    "for index, row in enumerate(tableData1):\n",
    "    titles1.append(row[0])\n",
    "    tableData1[index] = row[1:5]\n",
    "    \n",
    "for row in tableData1:\n",
    "    if len(row) == 0:\n",
    "        tableData1.remove(row)\n",
    "\n",
    "for index, row in enumerate(tableData2):\n",
    "    titles2.append(row[0])\n",
    "    tableData2[index] = row[1:5]\n",
    "    \n",
    "for row in tableData2:\n",
    "    if len(row) == 0:\n",
    "        tableData2.remove(row)\n",
    "\n",
    "# mainTitle = None\n",
    "# mainTitles1 = []\n",
    "# subTitles1 = []\n",
    "# for i in range(0, len(titles1), 4):\n",
    "#     mainTitle = titles1[i] \n",
    "#     titles1[i+1] = mainTitle+\", \"+titles1[i+1] \n",
    "#     titles1[i+2] = mainTitle+\", \"+titles1[i+2]\n",
    "#     titles1[i+3] = mainTitle+\", \"+titles1[i+3]\n",
    "#     mainTitles1.append(mainTitle)\n",
    "#     subTitles1.append(titles1[i+1])\n",
    "#     subTitles1.append(titles1[i+2])\n",
    "#     subTitles1.append(titles1[i+3])\n",
    "\n",
    "# mainTitles2 = []\n",
    "# subTitles2 = []\n",
    "# for i in range(0, len(titles2), 4):\n",
    "#     mainTitle = titles2[i] \n",
    "#     titles2[i+1] = mainTitle+\", \"+titles2[i+1] \n",
    "#     titles2[i+2] = mainTitle+\", \"+titles2[i+2]\n",
    "#     titles2[i+3] = mainTitle+\", \"+titles2[i+3]\n",
    "#     mainTitles2.append(mainTitle)\n",
    "#     subTitles2.append(titles2[i+1])\n",
    "#     subTitles2.append(titles2[i+2])\n",
    "#     subTitles2.append(titles2[i+3])        \n",
    "        \n",
    "# print(tableData2)\n",
    "\n",
    "# print(len(tableData1))\n",
    "# print(len(tableData2)) \n",
    "\n",
    "# print(len(subTitles1))\n",
    "# print(len(subTitles2))\n",
    "\n",
    "# print(avg1)\n",
    "# print(avg2)\n",
    "\n",
    "# print(avg1Title)\n",
    "# print(avg2Title)\n",
    "\n",
    "# tableData1 = cleaned_rows[1:61]\n",
    "# tableData1Average = cleaned_rows[61]\n",
    "# tableData2 = cleaned_rows[63:122]\n",
    "# tableData2Average = cleaned_rows[122]"
   ]
  },
  {
   "cell_type": "markdown",
   "metadata": {},
   "source": [
    "The next step is to insert the data for each retailer into the respective arrays. This data is further broken down for graphing specific types of data (organic or conventional) among each retailer. "
   ]
  },
  {
   "cell_type": "code",
   "execution_count": 266,
   "metadata": {},
   "outputs": [],
   "source": [
    "amazonFresh = []\n",
    "freshDirect = []\n",
    "harrisTeeter = []\n",
    "peapod = []\n",
    "priceChopper = []\n",
    "safeway = []\n",
    "walmart = []\n",
    "wholeFoods = []\n",
    "\n",
    "for row in tableData1:\n",
    "#     titles.append(row[0])\n",
    "    amazonFresh.append(row[0])\n",
    "    freshDirect.append(row[1])\n",
    "    harrisTeeter.append(row[2])\n",
    "    peapod.append(row[3])\n",
    "    \n",
    "for row in tableData2:\n",
    "#     titles.append(row[0])\n",
    "    priceChopper.append(row[0])\n",
    "    safeway.append(row[1])\n",
    "    walmart.append(row[2])\n",
    "    wholeFoods.append(row[3])\n",
    "    \n",
    "amazonFreshConv = []\n",
    "freshDirectConv = []\n",
    "harrisTeeterConv = []\n",
    "peapodConv = []\n",
    "priceChopperConv = []\n",
    "safewayConv = []\n",
    "walmartConv = []\n",
    "wholeFoodsConv = []\n",
    "\n",
    "amazonFreshOrg = []\n",
    "freshDirectOrg = []\n",
    "harrisTeeterOrg = []\n",
    "peapodOrg = []\n",
    "priceChopperOrg = []\n",
    "safewayOrg = []\n",
    "walmartOrg = []\n",
    "wholeFoodsOrg = []\n",
    "\n",
    "# amazonFreshPerc = []\n",
    "# freshDirectPerc = []\n",
    "# harrisTeeterPerc = []\n",
    "# peapodPerc = []\n",
    "# priceChopperPerc = []\n",
    "# safewayPerc = []\n",
    "# walmartPerc = []\n",
    "# wholeFoodsPerc = []\n",
    "\n",
    "for i in range(0, len(amazonFresh), 3):\n",
    "    amazonFreshConv.append(amazonFresh[i])\n",
    "    freshDirectConv.append(freshDirect[i])\n",
    "    harrisTeeterConv.append(harrisTeeter[i])\n",
    "    peapodConv.append(peapod[i])\n",
    "    priceChopperConv.append(priceChopper[i])\n",
    "    safewayConv.append(safeway[i])\n",
    "    walmartConv.append(walmart[i])\n",
    "    wholeFoodsConv.append(wholeFoods[i])\n",
    "\n",
    "for i in range(1, len(amazonFresh), 3):\n",
    "    amazonFreshOrg.append(amazonFresh[i])\n",
    "    freshDirectOrg.append(freshDirect[i])\n",
    "    harrisTeeterOrg.append(harrisTeeter[i])\n",
    "    peapodOrg.append(peapod[i])\n",
    "    priceChopperOrg.append(priceChopper[i])\n",
    "    safewayOrg.append(safeway[i])\n",
    "    walmartOrg.append(walmart[i])\n",
    "    wholeFoodsOrg.append(wholeFoods[i])\n",
    "    \n",
    "# for i in range(2, len(amazonFresh), 3):\n",
    "#     amazonFreshPerc.append(amazonFresh[i])\n",
    "#     freshDirectPerc.append(freshDirect[i])\n",
    "#     harrisTeeterPerc.append(harrisTeeter[i])\n",
    "#     peapodPerc.append(peapod[i])\n",
    "#     priceChopperPerc.append(priceChopper[i])\n",
    "#     safewayPerc.append(safeway[i])\n",
    "#     walmartPerc.append(walmart[i])\n",
    "#     wholeFoodsPerc.append(wholeFoods[i])\n",
    "    \n",
    "# subTitles1Conv = []\n",
    "# subTitles2Conv = []\n",
    "# subTitles1Org = []\n",
    "# subTitles2Org = []\n",
    "# subTitles1Perc = []\n",
    "# subTitles2Perc = []\n",
    "\n",
    "# for i in range(0, len(subTitles1), 3):\n",
    "#     subTitles1Conv.append(subTitles1[i])\n",
    "#     subTitles2Conv.append(subTitles2[i])    \n",
    "    \n",
    "# for i in range(1, len(subTitles1), 3):\n",
    "#     subTitles1Org.append(subTitles1[i])\n",
    "#     subTitles2Org.append(subTitles2[i])    \n",
    "    \n",
    "# for i in range(2, len(subTitles1), 3):\n",
    "#     subTitles1Perc.append(subTitles1[i])\n",
    "#     subTitles2Perc.append(subTitles2[i])\n",
    "\n",
    "# print(len(amazonFreshPerc))\n",
    "# print(len(subTitles1Perc))"
   ]
  },
  {
   "cell_type": "code",
   "execution_count": null,
   "metadata": {},
   "outputs": [],
   "source": [
    "# All the data to be graphed is stored in the proper dataframe varibles. Each dataframe variable corresponds to a separate graph and the values are conveted to float to be able to be read properly by matplotlib. "
   ]
  },
  {
   "cell_type": "code",
   "execution_count": 267,
   "metadata": {},
   "outputs": [],
   "source": [
    "# # df = pd.DataFrame({'Conventional': conventional,\n",
    "# #                    'Organic': organic}, index=titles)\n",
    "\n",
    "# data1Conv = {#'Produce Item' : subTitles1Conv,\n",
    "#          'Amazon Fresh' : amazonFreshConv,\n",
    "#          'Fresh Direct' : freshDirectConv,\n",
    "#          'Harris Teeter' : harrisTeeterConv,\n",
    "#          'Peapod' : peapodConv}\n",
    "\n",
    "# data2Conv = {#'Produce Item' : subTitles2Conv,\n",
    "#         'Price Chopper' : priceChopperConv,\n",
    "#         'Safeway' : safewayConv,\n",
    "#         'Walmart' : walmartConv,\n",
    "#         'Whole Foods' : wholeFoodsConv}\n",
    "\n",
    "# data1Org = {#'Produce Item' : subTitles1Org,\n",
    "#          'Amazon Fresh' : amazonFreshOrg,\n",
    "#          'Fresh Direct' : freshDirectOrg,\n",
    "#          'Harris Teeter' : harrisTeeterOrg,\n",
    "#          'Peapod' : peapodOrg}\n",
    "\n",
    "# data2Org = {#'Produce Item' : subTitles2Org,\n",
    "#         'Price Chopper' : priceChopperOrg,\n",
    "#         'Safeway' : safewayOrg,\n",
    "#         'Walmart' : walmartOrg,\n",
    "#         'Whole Foods' : wholeFoodsOrg}\n",
    "\n",
    "# data1Perc = {#'Produce Item' : subTitles1Perc,\n",
    "#          'Amazon Fresh' : amazonFreshPerc,\n",
    "#          'Fresh Direct' : freshDirectPerc,\n",
    "#          'Harris Teeter' : harrisTeeterPerc,\n",
    "#          'Peapod' : peapodPerc}\n",
    "\n",
    "# data2Perc = {#'Produce Item' : subTitles2Perc,\n",
    "#         'Price Chopper' : priceChopperPerc,\n",
    "#         'Safeway' : safewayPerc,\n",
    "#         'Walmart' : walmartPerc,\n",
    "#         'Whole Foods' : wholeFoodsPerc}\n",
    "\n",
    "# # print(data2Org)\n",
    "\n",
    "# # df1 = pd.DataFrame(data1)\n",
    "# # df1.set_index('Produce Item')\n",
    "# # df2 = pd.DataFrame(data2)\n",
    "\n",
    "# df1Conv = pd.DataFrame(data1Conv, index=subTitles1Conv)\n",
    "# df1Conv = df1Conv.astype(float)\n",
    "# df2Conv = pd.DataFrame(data2Conv, index=subTitles2Conv)\n",
    "# df2Conv = df2Conv.astype(float)\n",
    "\n",
    "# df1Org = pd.DataFrame(data1Org, index=subTitles1Org)\n",
    "# df1Org = df1Org.astype(float)\n",
    "# df2Org = pd.DataFrame(data2Org, index=subTitles2Org)\n",
    "# df2Org = df2Org.astype(float)\n",
    "\n",
    "# df1Perc = pd.DataFrame(data1Perc, index=subTitles1Perc)\n",
    "# df1Perc = df1Perc.astype(float)\n",
    "# df2Perc = pd.DataFrame(data2Perc, index=subTitles2Perc)\n",
    "# df2Perc = df2Perc.astype(float)\n",
    "# # df1Perc"
   ]
  },
  {
   "cell_type": "markdown",
   "metadata": {},
   "source": [
    "Finally, we store the values for each retailer in their respective arrays (an entry for each produce item), while also converting values to float to prepare to be graphed. we do this for both conventional and organic values. "
   ]
  },
  {
   "cell_type": "code",
   "execution_count": 274,
   "metadata": {},
   "outputs": [],
   "source": [
    "stores = ['Amazon Fresh', 'Fresh Direct', 'Harris Teeter', 'Peapod', 'Price Chopper', 'Safeway', 'Walmart', 'Whole Foods']\n",
    "produce = ['Apples', 'Bananas', 'Beef', 'Butter', 'Carrots', 'Chicken', 'Cream Cheese', 'Eggs', 'Honey', 'Iceberg Lettuce', 'Maple Syrup', 'Milk', 'Olive Oil', 'Strawberries', 'Zucchini']\n",
    "\n",
    "applesConv = []\n",
    "bananasConv = []\n",
    "beefConv = []\n",
    "butterConv = []\n",
    "carrotsConv = []\n",
    "chickenConv = []\n",
    "creamCheeseConv = []\n",
    "eggsConv = []\n",
    "honeyConv = []\n",
    "icebergLettuceConv = []\n",
    "mapleSyrupConv = []\n",
    "milkConv = []\n",
    "oliveOilConv = []\n",
    "strawberriesConv = []\n",
    "zucchiniConv = []\n",
    "\n",
    "produceArraysConv = [applesConv, bananasConv, beefConv, butterConv, carrotsConv, chickenConv, creamCheeseConv, eggsConv, \n",
    "                 honeyConv, icebergLettuceConv, mapleSyrupConv, milkConv, oliveOilConv, strawberriesConv, zucchiniConv]\n",
    "\n",
    "convArrays = [amazonFreshConv, freshDirectConv, harrisTeeterConv, peapodConv, \n",
    "              priceChopperConv, safewayConv, walmartConv, wholeFoodsConv]\n",
    "\n",
    "for arr in convArrays:\n",
    "    index = 0\n",
    "    for item in arr:\n",
    "        if item == 'NaN':\n",
    "            item = 0\n",
    "        item = float(item)\n",
    "        produceArraysConv[index].append(item)\n",
    "        index += 1\n",
    "        \n",
    "        \n",
    "# print(applesConv)\n",
    "\n",
    "applesOrg = []\n",
    "bananasOrg = []\n",
    "beefOrg = []\n",
    "butterOrg = []\n",
    "carrotsOrg = []\n",
    "chickenOrg = []\n",
    "creamCheeseOrg = []\n",
    "eggsOrg = []\n",
    "honeyOrg = []\n",
    "icebergLettuceOrg = []\n",
    "mapleSyrupOrg = []\n",
    "milkOrg = []\n",
    "oliveOilOrg = []\n",
    "strawberriesOrg = []\n",
    "zucchiniOrg = []\n",
    "\n",
    "produceArraysOrg = [applesOrg, bananasOrg, beefOrg, butterOrg, carrotsOrg, chickenOrg, creamCheeseOrg, eggsOrg, \n",
    "                 honeyOrg, icebergLettuceOrg, mapleSyrupOrg, milkOrg, oliveOilOrg, strawberriesOrg, zucchiniOrg]\n",
    "\n",
    "orgArrays = [amazonFreshOrg, freshDirectOrg, harrisTeeterOrg, peapodOrg, \n",
    "              priceChopperOrg, safewayOrg, walmartOrg, wholeFoodsOrg]\n",
    "\n",
    "for arr in orgArrays:\n",
    "    index = 0\n",
    "    for item in arr:\n",
    "        if item == 'NaN':\n",
    "            item = 0\n",
    "        item = float(item)\n",
    "        produceArraysOrg[index].append(item)\n",
    "        index += 1\n",
    "        \n",
    "        \n",
    "# print(applesOrg)\n",
    "\n",
    "# applesDiff = []\n",
    "# bananasDiff = []\n",
    "# beefDiff = []\n",
    "# butterDiff = []\n",
    "# carrotsDiff = []\n",
    "# chickenDiff = []\n",
    "# creamCheeseDiff = []\n",
    "# eggsDiff = []\n",
    "# honeyDiff = []\n",
    "# icebergLettuceDiff = []\n",
    "# mapleSyrupDiff = []\n",
    "# milkDiff = []\n",
    "# oliveOilDiff = []\n",
    "# strawberriesDiff = []\n",
    "# zucchiniDiff = []\n",
    "\n",
    "# produceArraysDiff = [applesDiff, bananasDiff, beefDiff, butterDiff, carrotsDiff, chickenDiff, creamCheeseDiff, eggsDiff, \n",
    "#                  honeyDiff, icebergLettuceDiff, mapleSyrupDiff, milkDiff, oliveOilDiff, strawberriesDiff, zucchiniDiff]\n",
    "\n",
    "# amazonFreshDiffConv = [] \n",
    "# freshDirectDiffConv = [] \n",
    "# harrisTeeterDiffConv = [] \n",
    "# peapodDiffConv = [] \n",
    "# priceChopperDiffConv = [] \n",
    "# safewayDiffConv = [] \n",
    "# walmartDiffConv= [] \n",
    "# wholeFoodsDiffConv = []\n",
    "\n",
    "# amazonFreshDiffOrg = [] \n",
    "# freshDirectDiffOrg = [] \n",
    "# harrisTeeterDiffOrg = [] \n",
    "# peapodDiffOrg = [] \n",
    "# priceChopperDiffOrg = [] \n",
    "# safewayDiffOrg = [] \n",
    "# walmartDiffOrg= [] \n",
    "# wholeFoodsDiffOrg = []\n",
    "\n",
    "# diffArraysConv = [amazonFreshDiffConv, freshDirectDiffConv, harrisTeeterDiffConv, peapodDiffConv, \n",
    "#               priceChopperDiffConv, safewayDiffConv, walmartDiffConv, wholeFoodsDiffConv]\n",
    "\n",
    "# diffArraysOrg  = [amazonFreshDiffOrg , freshDirectDiffOrg , harrisTeeterDiffOrg , peapodDiffOrg , \n",
    "#               priceChopperDiffOrg , safewayDiffOrg , walmartDiffOrg , wholeFoodsDiffOrg ]\n",
    "\n",
    "diffConv = []\n",
    "diffOrg = []\n",
    "\n",
    "for arr in convArrays:\n",
    "    cumSumConv = 0\n",
    "    for item in arr:\n",
    "        if item == 'NaN':\n",
    "            item = 0\n",
    "        item = float(item)\n",
    "        cumSumConv =  cumSumConv + item   \n",
    "    diffConv.append(cumSumConv)\n",
    "\n",
    "for arr in orgArrays:\n",
    "    cumSumOrg = 0\n",
    "    for item in arr:\n",
    "        if item == 'NaN':\n",
    "            item = 0\n",
    "        item = float(item)\n",
    "        cumSumOrg =  cumSumOrg + item   \n",
    "    diffOrg.append(cumSumOrg)\n",
    "        \n",
    "dfDiff = pd.DataFrame({'Conventional': diffConv,\n",
    "                   'Organic': diffOrg}, index=stores)        \n",
    "# print(amazonFreshDiffConv)\n",
    "# dfDiff"
   ]
  },
  {
   "cell_type": "markdown",
   "metadata": {},
   "source": [
    "#### Data Visualization"
   ]
  },
  {
   "cell_type": "markdown",
   "metadata": {},
   "source": [
    "Using the data frame we just created from scraping the excel data sheet, we can plot three graphs. The first graph below highlights the major retailer prices for conventional produce in 2015."
   ]
  },
  {
   "cell_type": "code",
   "execution_count": 287,
   "metadata": {},
   "outputs": [
    {
     "data": {
      "image/png": "[encoded data removed]",
      "text/plain": [
       "<Figure size 2160x2160 with 1 Axes>"
      ]
     },
     "metadata": {
      "needs_background": "light"
     },
     "output_type": "display_data"
    }
   ],
   "source": [
    "p1 = plt.bar(stores, applesConv, color = '#E81313', zorder = 3)\n",
    "p2 = plt.bar(stores, bananasConv, bottom=applesConv, color = '#F5EE12', zorder = 3)\n",
    "p3 = plt.bar(stores, beefConv, bottom=[i+j for i,j in zip(applesConv, bananasConv)], color = '#89553F', zorder = 3)\n",
    "p4 = plt.bar(stores, butterConv, bottom=[i+j+k for i,j,k in zip(applesConv, bananasConv, beefConv)], color = '#EAEA9B', zorder = 3)\n",
    "p5 = plt.bar(stores, carrotsConv, bottom=[i+j+k+l for i,j,k,l in zip(applesConv, bananasConv, beefConv, butterConv)], color = '#FAA027', zorder = 3)\n",
    "p6 = plt.bar(stores, chickenConv, bottom=[i+j+k+l+m for i,j,k,l,m in zip(applesConv, bananasConv, beefConv, butterConv, carrotsConv)], color = '#EFDDC4', zorder = 3)\n",
    "p7 = plt.bar(stores, creamCheeseConv, bottom=[i+j+k+l+m+n for i,j,k,l,m,n in zip(applesConv, bananasConv, beefConv, butterConv, carrotsConv, chickenConv)], color = '#FAFAFA', zorder = 3)\n",
    "p8 = plt.bar(stores, eggsConv, bottom=[i+j+k+l+m+n+o for i,j,k,l,m,n,o in zip(applesConv, bananasConv, beefConv, butterConv, carrotsConv, chickenConv, creamCheeseConv)], color = '#BE1AB9', zorder = 3)\n",
    "p9 = plt.bar(stores, honeyConv, bottom=[i+j+k+l+m+n+o+p for i,j,k,l,m,n,o,p in zip(applesConv, bananasConv, beefConv, butterConv, carrotsConv, chickenConv, creamCheeseConv, eggsConv)], color = '#F4C547', zorder = 3)\n",
    "p10 = plt.bar(stores, icebergLettuceConv, bottom=[i+j+k+l+m+n+o+p+q for i,j,k,l,m,n,o,p,q in zip(applesConv, bananasConv, beefConv, butterConv, carrotsConv, chickenConv, creamCheeseConv, eggsConv, honeyConv)], color = '#5FDF7F', zorder = 3)\n",
    "p11 = plt.bar(stores, mapleSyrupConv, bottom=[i+j+k+l+m+n+o+p+q+r for i,j,k,l,m,n,o,p,q,r in zip(applesConv, bananasConv, beefConv, butterConv, carrotsConv, chickenConv, creamCheeseConv, eggsConv, honeyConv, icebergLettuceConv)], color = '#AD5421', zorder = 3)\n",
    "p12 = plt.bar(stores, milkConv, bottom=[i+j+k+l+m+n+o+p+q+r+s for i,j,k,l,m,n,o,p,q,r,s in zip(applesConv, bananasConv, beefConv, butterConv, carrotsConv, chickenConv, creamCheeseConv, eggsConv, honeyConv, icebergLettuceConv, mapleSyrupConv)], color = '#4963E1', zorder = 3)\n",
    "p13 = plt.bar(stores, oliveOilConv, bottom=[i+j+k+l+m+n+o+p+q+r+s+t for i,j,k,l,m,n,o,p,q,r,s,t in zip(applesConv, bananasConv, beefConv, butterConv, carrotsConv, chickenConv, creamCheeseConv, eggsConv, honeyConv, icebergLettuceConv, mapleSyrupConv, milkConv)], color = '#DDE160', zorder = 3)\n",
    "p14 = plt.bar(stores, strawberriesConv, bottom=[i+j+k+l+m+n+o+p+q+r+s+t+u for i,j,k,l,m,n,o,p,q,r,s,t,u in zip(applesConv, bananasConv, beefConv, butterConv, carrotsConv, chickenConv, creamCheeseConv, eggsConv, honeyConv, icebergLettuceConv, mapleSyrupConv, milkConv, oliveOilConv)], color = '#D84949', zorder = 3)\n",
    "p15 = plt.bar(stores, zucchiniConv, bottom=[i+j+k+l+m+n+o+p+q+r+s+t+u+v for i,j,k,l,m,n,o,p,q,r,s,t,u,v in zip(applesConv, bananasConv, beefConv, butterConv, carrotsConv, chickenConv, creamCheeseConv, eggsConv, honeyConv, icebergLettuceConv, mapleSyrupConv, milkConv, oliveOilConv, strawberriesConv)], color = '#137733', zorder = 3)\n",
    "\n",
    "tens = [0, 10, 20, 30, 40, 50, 60, 70, 80, 90, 100]\n",
    "\n",
    "# fig, ax = plt.subplots()\n",
    "# # df = pd.DataFrame({'A':26, 'B':20}, index=['N'])\n",
    "# df1Conv.plot(kind='bar', ax=ax, figsize=(20, 10), width=0.85, zorder=3) \n",
    "plt.xlabel(\"Stores\", fontname='Comic Sans MS', fontsize=30)\n",
    "plt.ylabel(\"Price per Quantity (Dollars)\", fontname='Comic Sans MS', fontsize=30)\n",
    "plt.xticks(fontsize=25)\n",
    "plt.yticks(tens, fontsize=25)\n",
    "plt.grid(axis='y', alpha = 0.4, color = 'black', zorder = 3)\n",
    "# plt.xaxis.grid(False)\n",
    "plt.title('Major Retailer Prices for Conventional Produce: 2015', fontname='Comic Sans MS', fontsize=35)\n",
    "plt.legend(produce, loc='best', fontsize=18)\n",
    "plt.rcParams['figure.figsize'] = [30, 30]"
   ]
  },
  {
   "cell_type": "markdown",
   "metadata": {},
   "source": [
    "The second graph highlights the major retailer prices for organic produce in 2015."
   ]
  },
  {
   "cell_type": "code",
   "execution_count": 288,
   "metadata": {},
   "outputs": [
    {
     "data": {
      "image/png": "[encoded data removed]",
      "text/plain": [
       "<Figure size 2160x2160 with 1 Axes>"
      ]
     },
     "metadata": {
      "needs_background": "light"
     },
     "output_type": "display_data"
    }
   ],
   "source": [
    "p1 = plt.bar(stores, applesOrg, color = '#E81313', zorder = 3)\n",
    "p2 = plt.bar(stores, bananasOrg, bottom=applesOrg, color = '#F5EE12', zorder = 3)\n",
    "p3 = plt.bar(stores, beefOrg, bottom=[i+j for i,j in zip(applesOrg, bananasOrg)], color = '#89553F', zorder = 3)\n",
    "p4 = plt.bar(stores, butterOrg, bottom=[i+j+k for i,j,k in zip(applesOrg, bananasOrg, beefOrg)], color = '#EAEA9B', zorder = 3)\n",
    "p5 = plt.bar(stores, carrotsOrg, bottom=[i+j+k+l for i,j,k,l in zip(applesOrg, bananasOrg, beefOrg, butterOrg)], color = '#FAA027', zorder = 3)\n",
    "p6 = plt.bar(stores, chickenOrg, bottom=[i+j+k+l+m for i,j,k,l,m in zip(applesOrg, bananasOrg, beefOrg, butterOrg, carrotsOrg)], color = '#EFDDC4', zorder = 3)\n",
    "p7 = plt.bar(stores, creamCheeseOrg, bottom=[i+j+k+l+m+n for i,j,k,l,m,n in zip(applesOrg, bananasOrg, beefOrg, butterOrg, carrotsOrg, chickenOrg)], color = '#FAFAFA', zorder = 3)\n",
    "p8 = plt.bar(stores, eggsOrg, bottom=[i+j+k+l+m+n+o for i,j,k,l,m,n,o in zip(applesOrg, bananasOrg, beefOrg, butterOrg, carrotsOrg, chickenOrg, creamCheeseOrg)], color = '#BE1AB9', zorder = 3)\n",
    "p9 = plt.bar(stores, honeyOrg, bottom=[i+j+k+l+m+n+o+p for i,j,k,l,m,n,o,p in zip(applesOrg, bananasOrg, beefOrg, butterOrg, carrotsOrg, chickenOrg, creamCheeseOrg, eggsOrg)], color = '#F4C547', zorder = 3)\n",
    "p10 = plt.bar(stores, icebergLettuceOrg, bottom=[i+j+k+l+m+n+o+p+q for i,j,k,l,m,n,o,p,q in zip(applesOrg, bananasOrg, beefOrg, butterOrg, carrotsOrg, chickenOrg, creamCheeseOrg, eggsOrg, honeyOrg)], color = '#5FDF7F', zorder = 3)\n",
    "p11 = plt.bar(stores, mapleSyrupOrg, bottom=[i+j+k+l+m+n+o+p+q+r for i,j,k,l,m,n,o,p,q,r in zip(applesOrg, bananasOrg, beefOrg, butterOrg, carrotsOrg, chickenOrg, creamCheeseOrg, eggsOrg, honeyOrg, icebergLettuceOrg)], color = '#AD5421', zorder = 3)\n",
    "p12 = plt.bar(stores, milkOrg, bottom=[i+j+k+l+m+n+o+p+q+r+s for i,j,k,l,m,n,o,p,q,r,s in zip(applesOrg, bananasOrg, beefOrg, butterOrg, carrotsOrg, chickenOrg, creamCheeseOrg, eggsOrg, honeyOrg, icebergLettuceOrg, mapleSyrupOrg)], color = '#4963E1', zorder = 3)\n",
    "p13 = plt.bar(stores, oliveOilOrg, bottom=[i+j+k+l+m+n+o+p+q+r+s+t for i,j,k,l,m,n,o,p,q,r,s,t in zip(applesOrg, bananasOrg, beefOrg, butterOrg, carrotsOrg, chickenOrg, creamCheeseOrg, eggsOrg, honeyOrg, icebergLettuceOrg, mapleSyrupOrg, milkOrg)], color = '#DDE160', zorder = 3)\n",
    "p14 = plt.bar(stores, strawberriesOrg, bottom=[i+j+k+l+m+n+o+p+q+r+s+t+u for i,j,k,l,m,n,o,p,q,r,s,t,u in zip(applesOrg, bananasOrg, beefOrg, butterOrg, carrotsOrg, chickenOrg, creamCheeseOrg, eggsOrg, honeyOrg, icebergLettuceOrg, mapleSyrupOrg, milkOrg, oliveOilOrg)], color = '#D84949', zorder = 3)\n",
    "p15 = plt.bar(stores, zucchiniOrg, bottom=[i+j+k+l+m+n+o+p+q+r+s+t+u+v for i,j,k,l,m,n,o,p,q,r,s,t,u,v in zip(applesOrg, bananasOrg, beefOrg, butterOrg, carrotsOrg, chickenOrg, creamCheeseOrg, eggsOrg, honeyOrg, icebergLettuceOrg, mapleSyrupOrg, milkOrg, oliveOilOrg, strawberriesOrg)], color = '#137733', zorder = 3)\n",
    "\n",
    "# fig, ax = plt.subplots()\n",
    "# # df = pd.DataFrame({'A':26, 'B':20}, index=['N'])\n",
    "# df1Conv.plot(kind='bar', ax=ax, figsize=(20, 10), width=0.85, zorder=3) \n",
    "plt.xlabel(\"Stores\", fontname='Comic Sans MS', fontsize=30)\n",
    "plt.ylabel(\"Price per Quantity (Dollars)\", fontname='Comic Sans MS', fontsize=30)\n",
    "plt.xticks(fontsize=25)\n",
    "plt.yticks(tens, fontsize=25)\n",
    "plt.grid(axis='y', alpha = 0.4, color = 'black', zorder = 3)\n",
    "# plt.xaxis.grid(False)\n",
    "plt.title('Major Retailer Prices for Organic Produce: 2015', fontname='Comic Sans MS', fontsize=35)\n",
    "plt.legend(produce, loc='best', fontsize=18)\n",
    "plt.rcParams['figure.figsize'] = [30, 30]"
   ]
  },
  {
   "cell_type": "markdown",
   "metadata": {},
   "source": [
    "The third graph highlights the total major retailer prices across organic and conventional produce in 2015."
   ]
  },
  {
   "cell_type": "code",
   "execution_count": 289,
   "metadata": {},
   "outputs": [
    {
     "data": {
      "text/plain": [
       "Text(0.5, 1.0, 'Total Major Retailer Prices - Conventional v.s. Organic : 2015')"
      ]
     },
     "execution_count": 289,
     "metadata": {},
     "output_type": "execute_result"
    },
    {
     "data": {
      "image/png": "[encoded data removed]",
      "text/plain": [
       "<Figure size 1440x720 with 1 Axes>"
      ]
     },
     "metadata": {
      "needs_background": "light"
     },
     "output_type": "display_data"
    }
   ],
   "source": [
    "fig, ax = plt.subplots()\n",
    "dfDiff.plot(kind='bar', ax=ax, figsize=(20, 10), width=0.85, zorder = 3) \n",
    "ax.set_xlabel(\"Stores\", fontname='Comic Sans MS', fontsize=15)\n",
    "ax.set_ylabel(\"Price per Quantity (Dollars)\", fontname='Comic Sans MS', fontsize=15)\n",
    "ax.grid(alpha = 0.25, color = 'black', zorder = 0)\n",
    "ax.xaxis.grid(False)\n",
    "plt.xticks(fontsize = 12, rotation = 0)\n",
    "plt.xticks(fontsize = 12, rotation = 0)\n",
    "plt.title('Total Major Retailer Prices - Conventional v.s. Organic : 2015', fontname='Comic Sans MS', fontsize=20)"
   ]
  },
  {
   "cell_type": "code",
   "execution_count": 246,
   "metadata": {},
   "outputs": [],
   "source": [
    "# fig, ax = plt.subplots()\n",
    "# # df = pd.DataFrame({'A':26, 'B':20}, index=['N'])\n",
    "# df1Conv.plot(kind='bar', ax=ax, figsize=(20, 10), width=0.85, zorder=3) \n",
    "# ax.set_xlabel(\"Produce Items\", fontname='Comic Sans MS', fontsize=15)\n",
    "# ax.set_ylabel(\"Price per Quantity (Dollars)\", fontname='Comic Sans MS', fontsize=15)\n",
    "# ax.grid(alpha = 0.25, color = 'black', zorder = 0)\n",
    "# ax.xaxis.grid(False)\n",
    "# plt.title('Major Retailer Prices for Conventional Produce (Part 1): 2015', fontname='Comic Sans MS', fontsize=20)"
   ]
  },
  {
   "cell_type": "code",
   "execution_count": 247,
   "metadata": {},
   "outputs": [],
   "source": [
    "# fig, ax = plt.subplots()\n",
    "# # df = pd.DataFrame({'A':26, 'B':20}, index=['N'])\n",
    "# df2Conv.plot(kind='bar', ax=ax, figsize=(20, 10), width=0.85, zorder=3) \n",
    "# ax.set_xlabel(\"Produce Items\", fontname='Comic Sans MS', fontsize=15)\n",
    "# ax.set_ylabel(\"Price per Quantity (Dollars)\", fontname='Comic Sans MS', fontsize=15)\n",
    "# ax.grid(alpha = 0.25, color = 'black', zorder = 0)\n",
    "# ax.xaxis.grid(False)\n",
    "# plt.title('Major Retailer Prices for Conventional Produce (Part 2): 2015', fontname='Comic Sans MS', fontsize=20)"
   ]
  },
  {
   "cell_type": "code",
   "execution_count": 248,
   "metadata": {},
   "outputs": [],
   "source": [
    "# fig, ax = plt.subplots()\n",
    "# # df = pd.DataFrame({'A':26, 'B':20}, index=['N'])\n",
    "# df1Org.plot(kind='bar', ax=ax, figsize=(20, 10), width=0.85, zorder=3) \n",
    "# ax.set_xlabel(\"Produce Items\", fontname='Comic Sans MS', fontsize=15)\n",
    "# ax.set_ylabel(\"Price per Quantity (Dollars)\", fontname='Comic Sans MS', fontsize=15)\n",
    "# ax.grid(alpha = 0.25, color = 'black', zorder = 0)\n",
    "# ax.xaxis.grid(False)\n",
    "# plt.title('Major Retailer Prices for Conventional Produce (Part 1): 2015', fontname='Comic Sans MS', fontsize=20)"
   ]
  },
  {
   "cell_type": "code",
   "execution_count": 249,
   "metadata": {},
   "outputs": [],
   "source": [
    "# fig, ax = plt.subplots()\n",
    "# # df = pd.DataFrame({'A':26, 'B':20}, index=['N'])\n",
    "# df2Org.plot(kind='bar', ax=ax, figsize=(20, 10), width=0.85, zorder=3) \n",
    "# ax.set_xlabel(\"Produce Items\", fontname='Comic Sans MS', fontsize=15)\n",
    "# ax.set_ylabel(\"Price per Quantity (Dollars)\", fontname='Comic Sans MS', fontsize=15)\n",
    "# ax.grid(alpha = 0.25, color = 'black', zorder = 0)\n",
    "# ax.xaxis.grid(False)\n",
    "# plt.title('Major Retailer Prices for Conventional Produce (Part 2): 2015', fontname='Comic Sans MS', fontsize=20)"
   ]
  },
  {
   "cell_type": "code",
   "execution_count": 250,
   "metadata": {},
   "outputs": [],
   "source": [
    "# fig, ax = plt.subplots()\n",
    "# # df = pd.DataFrame({'A':26, 'B':20}, index=['N'])\n",
    "# df1Perc.plot(kind='bar', ax=ax, figsize=(20, 10), width=0.85, zorder=3) \n",
    "# ax.set_xlabel(\"Produce Items\", fontname='Comic Sans MS', fontsize=15)\n",
    "# ax.set_ylabel(\"Percent Difference in Price per Quantity (Dollars)\", fontname='Comic Sans MS', fontsize=15)\n",
    "# ax.grid(alpha = 0.25, color = 'black', zorder = 0)\n",
    "# ax.xaxis.grid(False)\n",
    "# plt.title('Difference in Major Retailer Prices for Conventional v.s. Organic Produce (Part 1): 2015', fontname='Comic Sans MS', fontsize=20)"
   ]
  },
  {
   "cell_type": "code",
   "execution_count": 251,
   "metadata": {},
   "outputs": [],
   "source": [
    "# fig, ax = plt.subplots()\n",
    "# # df = pd.DataFrame({'A':26, 'B':20}, index=['N'])\n",
    "# df2Perc.plot(kind='bar', ax=ax, figsize=(20, 10), width=0.85, zorder=3) \n",
    "# ax.set_xlabel(\"Produce Items\", fontname='Comic Sans MS', fontsize=15)\n",
    "# ax.set_ylabel(\"Percent Difference in Price per Quantity (Dollars)\", fontname='Comic Sans MS', fontsize=15)\n",
    "# ax.grid(alpha = 0.25, color = 'black', zorder = 0)\n",
    "# ax.xaxis.grid(False)\n",
    "# plt.title('Difference in Major Retailer Prices for Conventional v.s. Organic Produce (Part 2): 2015', fontname='Comic Sans MS', fontsize=20)"
   ]
  },
  {
   "cell_type": "markdown",
   "metadata": {},
   "source": [
    "#### Data Analysis"
   ]
  },
  {
   "cell_type": "markdown",
   "metadata": {},
   "source": [
    "We now discuss the results of the data to determine which types of organic food cost more or less than conventional food, while also looking at how much more organic produce is in comparison to conventional produce at certain retail stores."
   ]
  },
  {
   "cell_type": "markdown",
   "metadata": {},
   "source": [
    "Taking a look at graph 1, \n",
    "\n",
    "- Identify the largest and smallest\n",
    "- Identify the difference between the largest and smallest\\\n",
    "- Milk cost the same (and others)? Olive oil is vastly different!\n",
    "- For each type of produce, say where to buy it!"
   ]
  },
  {
   "cell_type": "markdown",
   "metadata": {},
   "source": [
    "Moving on to graph number 2,\n",
    "\n",
    "- Identify the largest and smallest\n",
    "- Identify the difference between the largest and smallest\n",
    "- Most cost the same, but maple syrup is different!\n",
    "- For each type of produce, say where to buy it"
   ]
  },
  {
   "cell_type": "markdown",
   "metadata": {},
   "source": [
    "Finishing off with graph number 3,\n",
    "\n",
    "- Organic is definitely more (per store difference)\n",
    "- Smallest and largest difference between reg and org (at two stores) \n",
    "- Conclude which stores to shop at\n",
    "- Conclude whether the price is worth it (incorporate other factors)"
   ]
  },
  {
   "cell_type": "markdown",
   "metadata": {},
   "source": [
    "### 6.2 - Average Conventional and Organic Fruit and Vegetable Prices over time  "
   ]
  },
  {
   "cell_type": "code",
   "execution_count": null,
   "metadata": {},
   "outputs": [],
   "source": []
  },
  {
   "cell_type": "markdown",
   "metadata": {},
   "source": [
    "#### Data Wrangling"
   ]
  },
  {
   "cell_type": "code",
   "execution_count": null,
   "metadata": {},
   "outputs": [],
   "source": []
  },
  {
   "cell_type": "markdown",
   "metadata": {},
   "source": [
    "#### Data Visualization"
   ]
  },
  {
   "cell_type": "code",
   "execution_count": null,
   "metadata": {},
   "outputs": [],
   "source": []
  },
  {
   "cell_type": "markdown",
   "metadata": {},
   "source": [
    "#### Data Analysis"
   ]
  },
  {
   "cell_type": "code",
   "execution_count": null,
   "metadata": {},
   "outputs": [],
   "source": []
  },
  {
   "cell_type": "markdown",
   "metadata": {},
   "source": [
    "# SUSTAINABLITY"
   ]
  },
  {
   "cell_type": "markdown",
   "metadata": {},
   "source": [
    "### https://www.sciencedirect.com/science/article/pii/S0301479712004264"
   ]
  },
  {
   "cell_type": "markdown",
   "metadata": {},
   "source": [
    "3.3. Land use\n",
    "Median response ratio showed that organic farming requires 84% more land compared to conventional farming in Europe (Figs. 1C and 4A). This is mainly due to lower crop yields, lower yielding animals and land area requirement for fertility building crops. The average organic yields over all crops in the data were 75% (SD ± 17%) of conventional yields (Table 2). In only in two cases were the organic yields higher, both of which related to melon production (Melero et al., 2006). The main reason for lower organic yields identified in the studies was insufficient availability of nutrients (especially nitrogen) although some studies mentioned problems with weeds, diseases or pests (Korsaeth, 2008). The higher organic melon yields were explained by higher SOM content in the organic fields compared to the conventional fields (Melero et al., 2006). The studies that found similar yield levels from both systems compared yields in experimental farms that had high soil quality (Herencia et al., 2008; Melero et al., 2006)."
   ]
  },
  {
   "cell_type": "code",
   "execution_count": null,
   "metadata": {},
   "outputs": [],
   "source": [
    "#Scrape table 2 (id = tbl2) and plot the results. Not too much data wrangling here"
   ]
  },
  {
   "cell_type": "markdown",
   "metadata": {},
   "source": [
    "3.7. Biodiversity\n",
    "A meta-analysis that compared biodiversity in organic and conventional farms (Bengtsson et al., 2005), found organic farms generally to have 30% higher species richness and 50% higher abundance of organisms than conventional farms. However, it also showed a wide variation between different studies. Sixteen per cent of the studies found a negative effect of organic farming on species richness. The differences were more prominent at the plot scale than in matched landscapes. They also found that the effect of organic farming on species richness was larger in intensively managed landscapes than in diverse landscapes with many non-crop biotopes.\n",
    "\n",
    "In a review of literature published between 1981 and 2003, Hole et al. (2005) compared biodiversity in organic and conventional farms. They found that organic farming generally had positive impacts on many species (Table 3). However, they concluded that it is still unclear whether conventional farming with specific practices for biodiversity conservation (i.e. agri-environmental schemes) can provide higher benefits than organic farming.\n",
    "\n",
    "BUT:\n",
    "More studies published after 2003 supported the findings of Hole et al. (2005) and Bengtsson et al. (2005) (Table 3), but none found organic farming to have negative impacts on biodiversity. In particular, weed plant richness has been widely found to be greater in organic farms compared with conventional farms (Albrecht, 2005; Gabriel et al., 2006; Petersen et al., 2006a; Romero et al., 2008; Roschewitz et al., 2005). Some studies showed that landscape had more significant impact on biodiversity than farming regime (Kragten and Snoo, 2007; Piha et al., 2007; Purtauf et al., 2005; Rundlöf et al., 2008; Rundlöf and Smith, 2006). It has also been found that organic farming alone without additional practices is not adequate for conserving some bird species (Kragten and Snoo, 2007; Piha et al., 2007) nor butterflies (Ekroos et al., 2008). The question as to whether conventional farming with specific targeted practices can result in higher biodiversity than organic farming is yet to be fully answered."
   ]
  },
  {
   "cell_type": "code",
   "execution_count": null,
   "metadata": {},
   "outputs": [],
   "source": [
    "#Scrape table 3 (id = tbl3) and plot the results. Not too much data wrangling again"
   ]
  },
  {
   "cell_type": "markdown",
   "metadata": {},
   "source": [
    "4.1. Comparison with a previous study\n",
    "The results of this study are largely consistent with the findings of Mondelaers et al. (2009) (Table 4), although they also included non-European studies. The largest difference was in the results of nitrogen leaching per kg of product, where our study showed 49% higher impacts from organic farming whereas Mondelaers et al. showed 5% lower impacts from organic system. This difference can be explained by the fact that our study included different studies from those included by Mondelaers et al., as non-European studies were excluded and more European studies were included in our study. We included 37 papers that they did not consider, partly reflecting the fact that they did not include some impact categories that were included in this study: ammonia emissions, phosphorus losses, acidification potential, eutrophication potential and energy use. It would be valuable in further work to explore whether there are systematic differences in the definitions and relationships considered between different regions of the world or between different categorisations of organic farming."
   ]
  },
  {
   "cell_type": "code",
   "execution_count": null,
   "metadata": {},
   "outputs": [],
   "source": [
    "#Scrape table 3 (id = tbl4) and plot the results. Not too much data wrangling again"
   ]
  },
  {
   "cell_type": "markdown",
   "metadata": {},
   "source": [
    "### https://geneticliteracyproject.org/2018/02/16/usda-data-confirm-organic-yields-dramatically-lower-conventional-farming/"
   ]
  },
  {
   "cell_type": "code",
   "execution_count": null,
   "metadata": {},
   "outputs": [],
   "source": [
    "#I'm having trouble finding the data they say they have used, so I don't see any data wrangling here so far."
   ]
  },
  {
   "cell_type": "markdown",
   "metadata": {},
   "source": [
    "# New to the link above this: https://www.nass.usda.gov/Surveys/Guide_to_NASS_Surveys/Organic_Production/index.php\n",
    "The TA suggested to do a comparison of organic evolution over the years"
   ]
  },
  {
   "cell_type": "markdown",
   "metadata": {},
   "source": [
    "### https://journals.plos.org/plosone/article?id=10.1371/journal.pone.0161673"
   ]
  },
  {
   "cell_type": "code",
   "execution_count": null,
   "metadata": {},
   "outputs": [],
   "source": [
    "#from s1, tables \"Data summarized by crop\" and \"Data sorted by crop and location\"\n",
    "#https://journals.plos.org/plosone/article/file?id=10.1371/journal.pone.0161673.s013&type=supplementary\n",
    "#Once again, probably not too much wrangling here"
   ]
  },
  {
   "cell_type": "markdown",
   "metadata": {},
   "source": [
    "### https://rodaleinstitute.org/wp-content/uploads/fst-30-year-report.pdf"
   ]
  },
  {
   "cell_type": "code",
   "execution_count": null,
   "metadata": {},
   "outputs": [],
   "source": [
    "#Probably useful for facts helping data analysis and conclusions"
   ]
  },
  {
   "cell_type": "markdown",
   "metadata": {},
   "source": [
    "### https://www.sciencedirect.com/science/article/pii/S0006320718313636 "
   ]
  },
  {
   "cell_type": "code",
   "execution_count": null,
   "metadata": {},
   "outputs": [],
   "source": [
    "#I have not seen any data relevant to the questions/project. I have read that agricultures and the use of\n",
    "#pesticides are causes for the lost of insect speciess"
   ]
  },
  {
   "cell_type": "markdown",
   "metadata": {},
   "source": [
    "## 8. Does organic food taste any better than conventional food?"
   ]
  },
  {
   "cell_type": "code",
   "execution_count": null,
   "metadata": {},
   "outputs": [],
   "source": [
    "# TO-DO"
   ]
  }
 ],
 "metadata": {
  "kernelspec": {
   "display_name": "Python 3",
   "language": "python",
   "name": "python3"
  },
  "language_info": {
   "codemirror_mode": {
    "name": "ipython",
    "version": 3
   },
   "file_extension": ".py",
   "mimetype": "text/x-python",
   "name": "python",
   "nbconvert_exporter": "python",
   "pygments_lexer": "ipython3",
   "version": "3.6.8"
  }
 },
 "nbformat": 4,
 "nbformat_minor": 2
}
